{
 "cells": [
  {
   "cell_type": "markdown",
   "metadata": {},
   "source": [
    "'''\n",
    "\n",
    "Predictive Patient Re-admission Model\n",
    "\n",
    "Date: 14/03/18\n",
    "\n",
    "Author: Annye Braca\n",
    "\n",
    "Email: annyebraca@gmail.com\n",
    "\n",
    "'''"
   ]
  },
  {
   "cell_type": "code",
   "execution_count": null,
   "metadata": {},
   "outputs": [],
   "source": [
    "# Importing Libraries\n",
    "from __future__ import absolute_import, division, print_function\n",
    "import pandas as pd\n",
    "import numpy as np\n",
    "import matplotlib.pyplot as plt\n",
    "%matplotlib inline\n",
    "%pylab inline\n",
    "from scipy.stats import spearmanr\n",
    "from pylab import rcParams\n",
    "import seaborn as sns\n",
    "from sklearn.preprocessing import scale \n",
    "from sklearn.linear_model import LogisticRegression\n",
    "from sklearn.cross_validation import train_test_split\n",
    "from sklearn import metrics\n",
    "from sklearn import preprocessing\n",
    "from sklearn import feature_extraction\n",
    "from sklearn.grid_search import GridSearchCV\n",
    "from sklearn.metrics import classification_report, confusion_matrix\n",
    "from sklearn.linear_model import LinearRegression\n",
    "from sklearn import linear_model\n",
    "from sklearn import model_selection\n",
    "#import statsmodels.api as sm\n",
    "import  sys\n",
    "from keras.optimizers import SGD\n",
    "from keras.models import Sequential\n",
    "from keras.layers import Dense\n",
    "from keras.layers import Dropout\n",
    "from keras.wrappers.scikit_learn import KerasClassifier, KerasRegressor\n",
    "from sklearn.model_selection import StratifiedKFold\n",
    "from sklearn.model_selection import cross_val_score\n",
    "\n",
    "from sklearn import svm\n",
    "from sklearn.datasets import samples_generator\n",
    "from sklearn.feature_selection import SelectKBest, f_regression\n",
    "from sklearn.pipeline import make_pipeline\n",
    "from sklearn.model_selection import train_test_split\n",
    "from sklearn.metrics import classification_report\n",
    "import time\n",
    "import keras\n",
    "from keras.layers import Flatten, Conv1D, Dense, GlobalAvgPool1D, GlobalMaxPool1D, Dropout, MaxPool1D, BatchNormalization"
   ]
  },
  {
   "cell_type": "code",
   "execution_count": null,
   "metadata": {},
   "outputs": [],
   "source": [
    "def one_hot_dataframe(data, cols, replace=False):\n",
    "    \"\"\"Create one-hot encodings.\"\"\"\n",
    "    vec = feature_extraction.DictVectorizer()\n",
    "    mkdict = lambda row: dict((col, row[col]) for col in cols)\n",
    "    vecData = pd.DataFrame(vec.fit_transform(data[cols].apply(mkdict, axis=1)).toarray())\n",
    "    vecData.columns = vec.get_feature_names()\n",
    "    vecData.index = data.index\n",
    "    if replace:\n",
    "        data = data.drop(cols, axis=1)\n",
    "        data = data.join(vecData)\n",
    "    return (data, vecData)"
   ]
  },
  {
   "cell_type": "code",
   "execution_count": null,
   "metadata": {},
   "outputs": [],
   "source": [
    "# Read in data\n",
    "data = pd.read_csv('../static/diabetic_data.csv')\n",
    "discharge = pd.ExcelFile('../static/discharge.xlsx')\n",
    "discharge = discharge.parse('Data')\n",
    "admission = pd.ExcelFile('../static/admission.xlsx')\n",
    "admission = admission.parse('Data')\n",
    "admission_type = pd.ExcelFile('../static/admission_type_ID.xlsx')\n",
    "admission_type = admission_type.parse('Data')\n",
    "\n",
    "# Map discharge and admission id descriptions\n",
    "discharge_map = dict(zip(discharge['discharge_disposition_id'], discharge['description']))\n",
    "data['discharge_description'] = data['discharge_disposition_id'].map(discharge_map)\n",
    "admission_map = dict(zip(admission['admission_source_id'], admission['description']))\n",
    "data['admission_description'] = data['admission_source_id'].map(admission_map)\n",
    "# bring in admission type id\n",
    "admission_type_map = dict(zip(admission_type['admission_type_id'], admission['description']))\n",
    "data['admission_type_description'] = data['admission_type_id'].map(admission_type_map)\n",
    "# Drop original ids as these are not dropped in one-hot_encoding function\n",
    "data.drop(['discharge_disposition_id', 'admission_source_id', 'admission_type_id'], axis=1, inplace=True)\n",
    "\n",
    "# Mapping Age\n",
    "age_ranges = list(set(data['age']))#\n",
    "age_ordinal = [1, 8, 7, 6, 0, 9, 4, 2, 5, 3]\n",
    "age_map = dict(zip(age_ranges, age_ordinal))\n",
    "data['age'] = data['age'].map(age_map)\n",
    "\n",
    "\n",
    "data.replace('?' , np.nan, inplace=True)\n",
    "data.drop(['weight', 'medical_specialty', 'payer_code', 'diag_2', 'diag_3',  'patient_nbr', 'encounter_id'], axis=1, inplace=True)\n",
    "\n",
    "data = data[~(data['diag_1'].str.startswith('V') | (data['diag_1'].str.startswith('E')))]\n",
    "\n",
    "\n",
    "data.dropna(inplace=True)"
   ]
  },
  {
   "cell_type": "code",
   "execution_count": null,
   "metadata": {},
   "outputs": [],
   "source": [
    "data, med = one_hot_dataframe(data, [\"admission_description\",\n",
    "                                     \"discharge_description\",\n",
    "                                     \"admission_type_description\",\n",
    "                                     \"race\",\n",
    "                                     \"gender\",\n",
    "                                     \"metformin\",\n",
    "                                     \"repaglinide\",\n",
    "                                     \"nateglinide\",\n",
    "                                     \"chlorpropamide\",\n",
    "                                     \"glimepiride\",\n",
    "                                     \"acetohexamide\",\n",
    "                                     \"glipizide\",\n",
    "                                     \"glyburide\",\n",
    "                                     \"tolbutamide\",\n",
    "                                     \"pioglitazone\",\n",
    "                                     \"rosiglitazone\",\n",
    "                                     \"acarbose\",\n",
    "                                     \"miglitol\",\n",
    "                                     \"troglitazone\",\n",
    "                                     \"tolazamide\",\n",
    "                                     \"examide\",\n",
    "                                     \"citoglipton\",\n",
    "                                     \"insulin\",\n",
    "                                     \"glyburide-metformin\",\n",
    "                                     \"glipizide-metformin\",\n",
    "                                     \"glimepiride-pioglitazone\",\n",
    "                                     \"metformin-rosiglitazone\",\n",
    "                                     \"metformin-pioglitazone\",\n",
    "                                     'A1Cresult',\n",
    "                                     'max_glu_serum',\n",
    "                                     'change',\n",
    "                                     'diabetesMed'], replace=True)\n"
   ]
  },
  {
   "cell_type": "code",
   "execution_count": null,
   "metadata": {},
   "outputs": [],
   "source": [
    "inds = pd.isnull(data).any(1).nonzero()[0]\n",
    "data.ix[inds]"
   ]
  },
  {
   "cell_type": "code",
   "execution_count": null,
   "metadata": {},
   "outputs": [],
   "source": [
    "set(data['readmitted'])\n",
    "data = data[data['diabetesMed=Yes'] == 1]\n",
    "print ('Diabetes patients: {}'.format(len(data)))\n",
    "print ('Readmitted: No: {}'.format(len(data[data['readmitted'] == 'NO'])))\n",
    "print ('Readmitted: <30: {}'.format(len(data[data['readmitted'] == '<30'])))\n",
    "print ('Readmitted: >30: {}'.format(len(data[data['readmitted'] == '>30'])))"
   ]
  },
  {
   "cell_type": "raw",
   "metadata": {},
   "source": [
    "data['readmitted2'] = data['readmitted']"
   ]
  },
  {
   "cell_type": "code",
   "execution_count": null,
   "metadata": {},
   "outputs": [],
   "source": []
  },
  {
   "cell_type": "markdown",
   "metadata": {},
   "source": [
    "Binary Mapping"
   ]
  },
  {
   "cell_type": "raw",
   "metadata": {},
   "source": [
    "#mapping readmitted\n",
    "readmitted_ordinal = [1, 1, 0]\n",
    "readmitted_map = dict(zip(readmitted_ranges, readmitted_ordinal))\n",
    "data['readmitted2'] = data['readmitted'].map(readmitted_map)\n",
    "data[['readmitted_ranges####']]"
   ]
  },
  {
   "cell_type": "code",
   "execution_count": null,
   "metadata": {},
   "outputs": [],
   "source": [
    "#mapping readmitted\n",
    "readmitted_ranges = list(set(data['readmitted']))\n",
    "readmitted_ordinal = [1, 1, 0]\n",
    "readmitted_map = dict(zip(readmitted_ranges, readmitted_ordinal))\n",
    "data['readmitted'] = data['readmitted'].map(readmitted_map)"
   ]
  },
  {
   "cell_type": "code",
   "execution_count": null,
   "metadata": {},
   "outputs": [],
   "source": [
    "###########Subsetting data  , we are interested just in people with a Diabetes condition  #################"
   ]
  },
  {
   "cell_type": "code",
   "execution_count": null,
   "metadata": {},
   "outputs": [],
   "source": [
    "diabetes = data[data['diabetesMed=Yes'] == 1]"
   ]
  },
  {
   "cell_type": "code",
   "execution_count": null,
   "metadata": {},
   "outputs": [],
   "source": [
    "len(diabetes) "
   ]
  },
  {
   "cell_type": "code",
   "execution_count": null,
   "metadata": {},
   "outputs": [],
   "source": [
    "X = diabetes\n",
    "inds = pd.isnull(X).any(1).nonzero()[0]\n",
    "y = diabetes['readmitted']\n",
    "X.drop(['readmitted', 'readmitted'], axis=1, inplace=True)"
   ]
  },
  {
   "cell_type": "code",
   "execution_count": null,
   "metadata": {},
   "outputs": [],
   "source": []
  },
  {
   "cell_type": "raw",
   "metadata": {},
   "source": [
    "\n",
    "\n",
    "-------------------------Logistic Regression  3 classes (0,1,2)--------------------------\n"
   ]
  },
  {
   "cell_type": "code",
   "execution_count": null,
   "metadata": {},
   "outputs": [],
   "source": []
  },
  {
   "cell_type": "code",
   "execution_count": null,
   "metadata": {},
   "outputs": [],
   "source": []
  },
  {
   "cell_type": "raw",
   "metadata": {},
   "source": [
    "#mapping readmitted\n",
    "readmitted_ranges = list(set(data['readmitted']))\n",
    "readmitted_ordinal = [2, 1, 0]\n",
    "readmitted_map = dict(zip(readmitted_ranges, readmitted_ordinal))\n",
    "data['readmitted'] = data['readmitted'].map(readmitted_map)"
   ]
  },
  {
   "cell_type": "code",
   "execution_count": null,
   "metadata": {},
   "outputs": [],
   "source": []
  },
  {
   "cell_type": "code",
   "execution_count": null,
   "metadata": {},
   "outputs": [],
   "source": []
  },
  {
   "cell_type": "code",
   "execution_count": 263,
   "metadata": {},
   "outputs": [
    {
     "name": "stdout",
     "output_type": "stream",
     "text": [
      "10-fold cross validation average accuracy: 0.624\n"
     ]
    }
   ],
   "source": [
    "kfold = model_selection.KFold(n_splits=10, random_state=7)\n",
    "modelCV = LogisticRegression()\n",
    "scoring = 'accuracy'\n",
    "results = model_selection.cross_val_score(modelCV, X_train, y_train, cv=kfold, scoring=scoring)\n",
    "print(\"10-fold cross validation average accuracy: %.3f\" % (results.mean()))"
   ]
  },
  {
   "cell_type": "code",
   "execution_count": 193,
   "metadata": {},
   "outputs": [
    {
     "name": "stdout",
     "output_type": "stream",
     "text": [
      "             precision    recall  f1-score   support\n",
      "\n",
      "          0       0.62      0.71      0.67      8857\n",
      "          1       0.63      0.53      0.57      8136\n",
      "\n",
      "avg / total       0.63      0.63      0.62     16993\n",
      "\n"
     ]
    }
   ],
   "source": [
    "from sklearn.metrics import classification_report\n",
    "print(classification_report(y_test, y_pred))"
   ]
  },
  {
   "cell_type": "code",
   "execution_count": null,
   "metadata": {},
   "outputs": [],
   "source": [
    "###############Convolutional neural networks####################"
   ]
  },
  {
   "cell_type": "code",
   "execution_count": 206,
   "metadata": {},
   "outputs": [],
   "source": [
    "from keras.regularizers import L1L2"
   ]
  },
  {
   "cell_type": "code",
   "execution_count": 214,
   "metadata": {},
   "outputs": [],
   "source": [
    "def create_baseline(input_nodes,\n",
    "                    hidden1_nodes,\n",
    "                    hidden2_nodes,\n",
    "                    hidden3_nodes,\n",
    "                    output_nodes,\n",
    "                    dropout_rate):\n",
    "        # NN architecturE\n",
    "        model = Sequential()\n",
    "        #model.add(GlobalAvgPool1D(input_shape=(146,2,)))\n",
    "        model.add(Dense(output_dim=hidden1_nodes,\n",
    "                        input_dim=input_nodes,\n",
    "                        activation='relu'))\n",
    "        model.add(Dropout(dropout_rate))\n",
    "        model.add(Dense(output_dim=hidden2_nodes,\n",
    "                        input_dim=hidden1_nodes,\n",
    "                        activation='relu'))\n",
    "        model.add(Dropout(dropout_rate))\n",
    "        model.add(Dense(output_dim=hidden3_nodes,\n",
    "                        input_dim=hidden2_nodes,\n",
    "                        activation='relu'))\n",
    "        model.add(Dropout(dropout_rate))\n",
    "        model.add(Dense(output_dim=hidden4_nodes,\n",
    "                        input_dim=hidden3_nodes,\n",
    "                        activation='relu'))\n",
    "        model.add(Dropout(dropout_rate))\n",
    "        model.add(Dense(output_dim=output_nodes,\n",
    "                        input_dim=hidden4_nodes,\n",
    "                        activation='sigmoid'))\n",
    "        # Compile model\n",
    "        model.compile(loss='binary_crossentropy',\n",
    "                      optimizer='adam',\n",
    "                      metrics=['accuracy'])\n",
    "        return model"
   ]
  },
  {
   "cell_type": "code",
   "execution_count": 200,
   "metadata": {},
   "outputs": [],
   "source": [
    "# categorical_crossentrophy expects targets to be binary matrices - if target are integer classes\n",
    "# we need to convert to the expected format using to categorical\n",
    "# fix random seed for reproducibility\n",
    "y_train = np.array(y_train)\n",
    "y_train = [[x] for x in y_train]\n",
    "y_train = np.array(y_train)\n",
    "y_test = np.array(y_test)\n",
    "y_test = [[x] for x in y_test]\n",
    "y_test = np.array(y_test)"
   ]
  },
  {
   "cell_type": "code",
   "execution_count": 216,
   "metadata": {},
   "outputs": [
    {
     "name": "stderr",
     "output_type": "stream",
     "text": [
      "C:\\Users\\Creative\\Anaconda2\\envs\\tensorflow\\lib\\site-packages\\ipykernel_launcher.py:12: UserWarning: Update your `Dense` call to the Keras 2 API: `Dense(input_dim=146, units=50, activation=\"relu\")`\n",
      "  if sys.path[0] == '':\n",
      "C:\\Users\\Creative\\Anaconda2\\envs\\tensorflow\\lib\\site-packages\\ipykernel_launcher.py:16: UserWarning: Update your `Dense` call to the Keras 2 API: `Dense(input_dim=50, units=50, activation=\"relu\")`\n",
      "  app.launch_new_instance()\n",
      "C:\\Users\\Creative\\Anaconda2\\envs\\tensorflow\\lib\\site-packages\\ipykernel_launcher.py:20: UserWarning: Update your `Dense` call to the Keras 2 API: `Dense(input_dim=50, units=50, activation=\"relu\")`\n",
      "C:\\Users\\Creative\\Anaconda2\\envs\\tensorflow\\lib\\site-packages\\ipykernel_launcher.py:24: UserWarning: Update your `Dense` call to the Keras 2 API: `Dense(input_dim=50, units=50, activation=\"relu\")`\n",
      "C:\\Users\\Creative\\Anaconda2\\envs\\tensorflow\\lib\\site-packages\\ipykernel_launcher.py:28: UserWarning: Update your `Dense` call to the Keras 2 API: `Dense(input_dim=50, units=1, activation=\"sigmoid\")`\n"
     ]
    },
    {
     "name": "stdout",
     "output_type": "stream",
     "text": [
      "Epoch 1/100\n",
      "50977/50977 [==============================] - 5s 101us/step - loss: 0.7292 - acc: 0.5424\n",
      "Epoch 2/100\n",
      "50977/50977 [==============================] - 5s 97us/step - loss: 0.6697 - acc: 0.5870\n",
      "Epoch 3/100\n",
      "50977/50977 [==============================] - 6s 116us/step - loss: 0.6579 - acc: 0.6029\n",
      "Epoch 4/100\n",
      "50977/50977 [==============================] - 5s 105us/step - loss: 0.6566 - acc: 0.6062\n",
      "Epoch 5/100\n",
      "50977/50977 [==============================] - 6s 112us/step - loss: 0.6535 - acc: 0.6082\n",
      "Epoch 6/100\n",
      "50977/50977 [==============================] - 6s 117us/step - loss: 0.6497 - acc: 0.6131\n",
      "Epoch 7/100\n",
      "50977/50977 [==============================] - 5s 107us/step - loss: 0.6478 - acc: 0.6150\n",
      "Epoch 8/100\n",
      "50977/50977 [==============================] - 5s 101us/step - loss: 0.6450 - acc: 0.6185\n",
      "Epoch 9/100\n",
      "50977/50977 [==============================] - 5s 103us/step - loss: 0.6436 - acc: 0.6200\n",
      "Epoch 10/100\n",
      "50977/50977 [==============================] - 5s 96us/step - loss: 0.6426 - acc: 0.6210\n",
      "Epoch 11/100\n",
      "50977/50977 [==============================] - 5s 103us/step - loss: 0.6424 - acc: 0.6205\n",
      "Epoch 12/100\n",
      "50977/50977 [==============================] - 5s 107us/step - loss: 0.6425 - acc: 0.6195\n",
      "Epoch 13/100\n",
      "50977/50977 [==============================] - 5s 107us/step - loss: 0.6405 - acc: 0.6218\n",
      "Epoch 14/100\n",
      "50977/50977 [==============================] - 6s 111us/step - loss: 0.6388 - acc: 0.6248\n",
      "Epoch 15/100\n",
      "50977/50977 [==============================] - 5s 104us/step - loss: 0.6398 - acc: 0.6215\n",
      "Epoch 16/100\n",
      "50977/50977 [==============================] - 5s 105us/step - loss: 0.6407 - acc: 0.6192\n",
      "Epoch 17/100\n",
      "50977/50977 [==============================] - 5s 102us/step - loss: 0.6391 - acc: 0.6235\n",
      "Epoch 18/100\n",
      "50977/50977 [==============================] - 6s 110us/step - loss: 0.6394 - acc: 0.6215\n",
      "Epoch 19/100\n",
      "50977/50977 [==============================] - 6s 109us/step - loss: 0.6385 - acc: 0.6241\n",
      "Epoch 20/100\n",
      "50977/50977 [==============================] - 6s 113us/step - loss: 0.6371 - acc: 0.6245\n",
      "Epoch 21/100\n",
      "50977/50977 [==============================] - 5s 107us/step - loss: 0.6377 - acc: 0.6257\n",
      "Epoch 22/100\n",
      "50977/50977 [==============================] - 5s 97us/step - loss: 0.6367 - acc: 0.6263\n",
      "Epoch 23/100\n",
      "50977/50977 [==============================] - 5s 104us/step - loss: 0.6378 - acc: 0.6229\n",
      "Epoch 24/100\n",
      "50977/50977 [==============================] - 5s 104us/step - loss: 0.6359 - acc: 0.6261\n",
      "Epoch 25/100\n",
      "50977/50977 [==============================] - 5s 102us/step - loss: 0.6351 - acc: 0.6253\n",
      "Epoch 26/100\n",
      "50977/50977 [==============================] - 6s 110us/step - loss: 0.6347 - acc: 0.6263\n",
      "Epoch 27/100\n",
      "50977/50977 [==============================] - 5s 105us/step - loss: 0.6346 - acc: 0.6268\n",
      "Epoch 28/100\n",
      "50977/50977 [==============================] - 6s 111us/step - loss: 0.6343 - acc: 0.6277\n",
      "Epoch 29/100\n",
      "50977/50977 [==============================] - 5s 106us/step - loss: 0.6328 - acc: 0.6298\n",
      "Epoch 30/100\n",
      "50977/50977 [==============================] - 5s 100us/step - loss: 0.6339 - acc: 0.6287\n",
      "Epoch 31/100\n",
      "50977/50977 [==============================] - 5s 102us/step - loss: 0.6335 - acc: 0.6274\n",
      "Epoch 32/100\n",
      "50977/50977 [==============================] - 5s 97us/step - loss: 0.6326 - acc: 0.6275\n",
      "Epoch 33/100\n",
      "50977/50977 [==============================] - 6s 111us/step - loss: 0.6321 - acc: 0.6300\n",
      "Epoch 34/100\n",
      "50977/50977 [==============================] - 5s 99us/step - loss: 0.6317 - acc: 0.6299\n",
      "Epoch 35/100\n",
      "50977/50977 [==============================] - 5s 96us/step - loss: 0.6323 - acc: 0.6285\n",
      "Epoch 36/100\n",
      "50977/50977 [==============================] - 5s 106us/step - loss: 0.6305 - acc: 0.6322\n",
      "Epoch 37/100\n",
      "50977/50977 [==============================] - 5s 100us/step - loss: 0.6319 - acc: 0.6303\n",
      "Epoch 38/100\n",
      "50977/50977 [==============================] - 5s 103us/step - loss: 0.6294 - acc: 0.6303\n",
      "Epoch 39/100\n",
      "50977/50977 [==============================] - 5s 106us/step - loss: 0.6304 - acc: 0.6322\n",
      "Epoch 40/100\n",
      "50977/50977 [==============================] - 5s 99us/step - loss: 0.6302 - acc: 0.6317\n",
      "Epoch 41/100\n",
      "50977/50977 [==============================] - 5s 108us/step - loss: 0.6299 - acc: 0.6322\n",
      "Epoch 42/100\n",
      "50977/50977 [==============================] - 6s 116us/step - loss: 0.6302 - acc: 0.6299\n",
      "Epoch 43/100\n",
      "50977/50977 [==============================] - 5s 105us/step - loss: 0.6287 - acc: 0.6322\n",
      "Epoch 44/100\n",
      "50977/50977 [==============================] - 5s 101us/step - loss: 0.6288 - acc: 0.6310\n",
      "Epoch 45/100\n",
      "50977/50977 [==============================] - 5s 101us/step - loss: 0.6294 - acc: 0.6295\n",
      "Epoch 46/100\n",
      "50977/50977 [==============================] - 5s 104us/step - loss: 0.6287 - acc: 0.6312\n",
      "Epoch 47/100\n",
      "50977/50977 [==============================] - 5s 102us/step - loss: 0.6284 - acc: 0.6329\n",
      "Epoch 48/100\n",
      "50977/50977 [==============================] - 5s 104us/step - loss: 0.6278 - acc: 0.6299\n",
      "Epoch 49/100\n",
      "50977/50977 [==============================] - 6s 113us/step - loss: 0.6268 - acc: 0.6337\n",
      "Epoch 50/100\n",
      "50977/50977 [==============================] - 7s 129us/step - loss: 0.6273 - acc: 0.6318\n",
      "Epoch 51/100\n",
      "50977/50977 [==============================] - 5s 106us/step - loss: 0.6267 - acc: 0.6351\n",
      "Epoch 52/100\n",
      "50977/50977 [==============================] - 5s 107us/step - loss: 0.6279 - acc: 0.6319\n",
      "Epoch 53/100\n",
      "50977/50977 [==============================] - 5s 98us/step - loss: 0.6271 - acc: 0.6338\n",
      "Epoch 54/100\n",
      "50977/50977 [==============================] - 6s 109us/step - loss: 0.6260 - acc: 0.6338\n",
      "Epoch 55/100\n",
      "50977/50977 [==============================] - 6s 116us/step - loss: 0.6261 - acc: 0.6338\n",
      "Epoch 56/100\n",
      "50977/50977 [==============================] - 6s 109us/step - loss: 0.6261 - acc: 0.6345\n",
      "Epoch 57/100\n",
      "50977/50977 [==============================] - 6s 113us/step - loss: 0.6256 - acc: 0.6328\n",
      "Epoch 58/100\n",
      "50977/50977 [==============================] - 6s 110us/step - loss: 0.6258 - acc: 0.6351\n",
      "Epoch 59/100\n",
      "50977/50977 [==============================] - 6s 126us/step - loss: 0.6251 - acc: 0.6356\n",
      "Epoch 60/100\n",
      "50977/50977 [==============================] - 5s 106us/step - loss: 0.6252 - acc: 0.6363\n",
      "Epoch 61/100\n",
      "50977/50977 [==============================] - 5s 107us/step - loss: 0.6248 - acc: 0.6360\n",
      "Epoch 62/100\n",
      "50977/50977 [==============================] - 5s 106us/step - loss: 0.6238 - acc: 0.6362\n",
      "Epoch 63/100\n",
      "50977/50977 [==============================] - 5s 93us/step - loss: 0.6235 - acc: 0.6375\n",
      "Epoch 64/100\n",
      "50977/50977 [==============================] - 7s 132us/step - loss: 0.6248 - acc: 0.6340\n",
      "Epoch 65/100\n",
      "50977/50977 [==============================] - 7s 139us/step - loss: 0.6233 - acc: 0.6364\n",
      "Epoch 66/100\n",
      "50977/50977 [==============================] - 5s 96us/step - loss: 0.6226 - acc: 0.6370\n",
      "Epoch 67/100\n",
      "50977/50977 [==============================] - 5s 99us/step - loss: 0.6247 - acc: 0.6329\n",
      "Epoch 68/100\n",
      "50977/50977 [==============================] - 5s 101us/step - loss: 0.6229 - acc: 0.6362\n",
      "Epoch 69/100\n",
      "50977/50977 [==============================] - 5s 94us/step - loss: 0.6227 - acc: 0.6360\n",
      "Epoch 70/100\n",
      "50977/50977 [==============================] - 5s 91us/step - loss: 0.6226 - acc: 0.6367\n",
      "Epoch 71/100\n",
      "50977/50977 [==============================] - 5s 106us/step - loss: 0.6235 - acc: 0.6376\n",
      "Epoch 72/100\n",
      "50977/50977 [==============================] - 5s 98us/step - loss: 0.6213 - acc: 0.6391\n",
      "Epoch 73/100\n",
      "50977/50977 [==============================] - 5s 90us/step - loss: 0.6219 - acc: 0.6379\n",
      "Epoch 74/100\n",
      "50977/50977 [==============================] - 5s 99us/step - loss: 0.6198 - acc: 0.6375\n",
      "Epoch 75/100\n",
      "50977/50977 [==============================] - 5s 100us/step - loss: 0.6225 - acc: 0.6368\n",
      "Epoch 76/100\n",
      "50977/50977 [==============================] - 5s 90us/step - loss: 0.6215 - acc: 0.6381\n",
      "Epoch 77/100\n",
      "50977/50977 [==============================] - 5s 93us/step - loss: 0.6203 - acc: 0.6393\n",
      "Epoch 78/100\n",
      "50977/50977 [==============================] - 5s 90us/step - loss: 0.6197 - acc: 0.6375\n",
      "Epoch 79/100\n",
      "50977/50977 [==============================] - 5s 96us/step - loss: 0.6183 - acc: 0.6417\n",
      "Epoch 80/100\n",
      "50977/50977 [==============================] - 5s 100us/step - loss: 0.6189 - acc: 0.6387\n",
      "Epoch 81/100\n",
      "50977/50977 [==============================] - 6s 111us/step - loss: 0.6193 - acc: 0.6356\n",
      "Epoch 82/100\n",
      "50977/50977 [==============================] - 5s 90us/step - loss: 0.6183 - acc: 0.6412\n",
      "Epoch 83/100\n",
      "50977/50977 [==============================] - 6s 112us/step - loss: 0.6170 - acc: 0.6419\n",
      "Epoch 84/100\n",
      "50977/50977 [==============================] - 5s 101us/step - loss: 0.6177 - acc: 0.6421\n",
      "Epoch 85/100\n",
      "50977/50977 [==============================] - 5s 99us/step - loss: 0.6176 - acc: 0.6410\n",
      "Epoch 86/100\n",
      "50977/50977 [==============================] - 5s 98us/step - loss: 0.6184 - acc: 0.6412\n",
      "Epoch 87/100\n",
      "50977/50977 [==============================] - 5s 94us/step - loss: 0.6166 - acc: 0.6423\n",
      "Epoch 88/100\n",
      "50977/50977 [==============================] - 5s 104us/step - loss: 0.6172 - acc: 0.6411\n",
      "Epoch 89/100\n",
      "50977/50977 [==============================] - 5s 94us/step - loss: 0.6181 - acc: 0.6403\n",
      "Epoch 90/100\n",
      "50977/50977 [==============================] - 5s 96us/step - loss: 0.6166 - acc: 0.6419\n",
      "Epoch 91/100\n",
      "50977/50977 [==============================] - 5s 89us/step - loss: 0.6157 - acc: 0.6429\n",
      "Epoch 92/100\n",
      "50977/50977 [==============================] - 5s 95us/step - loss: 0.6161 - acc: 0.6413\n",
      "Epoch 93/100\n",
      "50977/50977 [==============================] - 5s 100us/step - loss: 0.6155 - acc: 0.6413\n",
      "Epoch 94/100\n",
      "50977/50977 [==============================] - 6s 117us/step - loss: 0.6165 - acc: 0.6418\n",
      "Epoch 95/100\n",
      "50977/50977 [==============================] - 5s 101us/step - loss: 0.6146 - acc: 0.6442\n",
      "Epoch 96/100\n",
      "50977/50977 [==============================] - 6s 114us/step - loss: 0.6152 - acc: 0.6431\n",
      "Epoch 97/100\n",
      "50977/50977 [==============================] - 6s 121us/step - loss: 0.6143 - acc: 0.6445\n",
      "Epoch 98/100\n",
      "50977/50977 [==============================] - 6s 113us/step - loss: 0.6161 - acc: 0.6405\n",
      "Epoch 99/100\n",
      "50977/50977 [==============================] - 6s 120us/step - loss: 0.6152 - acc: 0.6435\n",
      "Epoch 100/100\n",
      "50977/50977 [==============================] - 5s 106us/step - loss: 0.6138 - acc: 0.6431\n",
      "--- 537.7729172706604 seconds ---\n"
     ]
    },
    {
     "data": {
      "text/plain": [
       "'\\n# evaluate model with standardized dataset\\nestimator = KerasClassifier(build_fn=model,\\n                            nb_epoch=100,\\n                            batch_size=200,\\n                            verbose=2)\\nkfold = StratifiedKFold(n_splits=10,\\n                        shuffle=True,\\n                        random_state=seed)\\nresults = cross_val_score(estimator,\\n                          X,\\n                          y,\\n                          cv=kfold)\\n'"
      ]
     },
     "execution_count": 216,
     "metadata": {},
     "output_type": "execute_result"
    }
   ],
   "source": [
    "\"\"\" Keras Sequential model with Manual validation\n",
    "\"\"\"\n",
    "start_time = time.time()\n",
    "\n",
    "\n",
    "# Only for categorical_crossentrophy - Comment out for binary_crossentrophy\n",
    "#y_train = keras.utils.to_categorical(y_train, num_classes=3)\n",
    "#y_test = keras.utils.to_categorical(y_test, num_classes=3)\n",
    "\n",
    "seed = 13\n",
    "np.random.seed(seed)\n",
    "cvscores = []\n",
    "learning_rate = 0.1\n",
    "sgd = SGD(lr=learning_rate, momentum=0.05, nesterov=False)\n",
    "\n",
    "input_nodes = 146\n",
    "hidden1_nodes = 50\n",
    "hidden2_nodes = 50\n",
    "hidden3_nodes = 50\n",
    "hidden4_nodes = 50\n",
    "output_nodes = 1\n",
    "dropout_rate = 0\n",
    "\n",
    "\n",
    "model = create_baseline(input_nodes,\n",
    "                        hidden1_nodes,\n",
    "                        hidden2_nodes,\n",
    "                        hidden3_nodes,\n",
    "                        output_nodes,\n",
    "                        dropout_rate)\n",
    "\n",
    "\n",
    "\n",
    "model.fit(X_train, y_train, epochs=100, batch_size=120) \n",
    "print('--- %s seconds ---'%(time.time() - start_time))\n",
    "'''\n",
    "# evaluate model with standardized dataset\n",
    "estimator = KerasClassifier(build_fn=model,\n",
    "                            nb_epoch=100,\n",
    "                            batch_size=200,\n",
    "                            verbose=2)\n",
    "kfold = StratifiedKFold(n_splits=10,\n",
    "                        shuffle=True,\n",
    "                        random_state=seed)\n",
    "results = cross_val_score(estimator,\n",
    "                          X,\n",
    "                          y,\n",
    "                          cv=kfold)\n",
    "'''\n",
    "#print(\"Results of 10-fold Cross-Validation: %.2f%% (%.2f%%)\" % (results.mean() * 100, results.std() * 100))"
   ]
  },
  {
   "cell_type": "code",
   "execution_count": null,
   "metadata": {},
   "outputs": [],
   "source": []
  },
  {
   "cell_type": "code",
   "execution_count": null,
   "metadata": {},
   "outputs": [],
   "source": []
  },
  {
   "cell_type": "code",
   "execution_count": null,
   "metadata": {},
   "outputs": [],
   "source": []
  },
  {
   "cell_type": "code",
   "execution_count": null,
   "metadata": {},
   "outputs": [],
   "source": [
    "# Separate training and test sets\n",
    "X_train, X_test, y_train, y_test = train_test_split(X, y, test_size=0.30, random_state=40)"
   ]
  },
  {
   "cell_type": "code",
   "execution_count": null,
   "metadata": {},
   "outputs": [],
   "source": []
  },
  {
   "cell_type": "raw",
   "metadata": {},
   "source": [
    "-------------------------Logistic Regression Binomial (0,1) --------------------------\n"
   ]
  },
  {
   "cell_type": "code",
   "execution_count": 42,
   "metadata": {},
   "outputs": [
    {
     "name": "stdout",
     "output_type": "stream",
     "text": [
      "Accuracy of logistic regression classifier on test set: 0.88\n"
     ]
    }
   ],
   "source": [
    "model = LogisticRegression()\n",
    "model.fit(X_train, y_train)\n",
    "y_pred = model.predict(X_test)\n",
    "print('Accuracy of logistic regression classifier on test set: {:.2f}'.format(model.score(X_test, y_test)))"
   ]
  },
  {
   "cell_type": "code",
   "execution_count": 43,
   "metadata": {},
   "outputs": [
    {
     "name": "stdout",
     "output_type": "stream",
     "text": [
      "10-fold cross validation average accuracy: 0.884\n"
     ]
    }
   ],
   "source": [
    "\n",
    "kfold = model_selection.KFold(n_splits=10, random_state=7)\n",
    "modelCV = LogisticRegression()\n",
    "scoring = 'accuracy'\n",
    "results = model_selection.cross_val_score(modelCV, X_train, y_train, cv=kfold, scoring=scoring)\n",
    "print(\"10-fold cross validation average accuracy: %.3f\" % (results.mean()))"
   ]
  },
  {
   "cell_type": "code",
   "execution_count": 44,
   "metadata": {},
   "outputs": [
    {
     "name": "stdout",
     "output_type": "stream",
     "text": [
      "             precision    recall  f1-score   support\n",
      "\n",
      "          0       0.51      0.02      0.03      2388\n",
      "          1       0.88      1.00      0.94     18003\n",
      "\n",
      "avg / total       0.84      0.88      0.83     20391\n",
      "\n"
     ]
    }
   ],
   "source": [
    "from sklearn.metrics import classification_report\n",
    "print(classification_report(y_test, y_pred))"
   ]
  },
  {
   "cell_type": "code",
   "execution_count": null,
   "metadata": {},
   "outputs": [],
   "source": []
  },
  {
   "cell_type": "raw",
   "metadata": {},
   "source": [
    "--------------- End of Logisitic Regression ------------------------"
   ]
  },
  {
   "cell_type": "code",
   "execution_count": null,
   "metadata": {},
   "outputs": [],
   "source": []
  },
  {
   "cell_type": "raw",
   "metadata": {},
   "source": [
    "==============================================================="
   ]
  },
  {
   "cell_type": "code",
   "execution_count": null,
   "metadata": {},
   "outputs": [],
   "source": []
  },
  {
   "cell_type": "code",
   "execution_count": null,
   "metadata": {},
   "outputs": [],
   "source": []
  },
  {
   "cell_type": "code",
   "execution_count": 215,
   "metadata": {},
   "outputs": [],
   "source": [
    "# Separate training and test sets\n",
    "X_train, X_test, y_train, y_test = train_test_split(X, y, test_size=0.25, random_state=33)"
   ]
  },
  {
   "cell_type": "code",
   "execution_count": null,
   "metadata": {},
   "outputs": [],
   "source": []
  },
  {
   "cell_type": "raw",
   "metadata": {},
   "source": [
    "===============ANOVA SVM-C=========================="
   ]
  },
  {
   "cell_type": "code",
   "execution_count": 90,
   "metadata": {},
   "outputs": [
    {
     "name": "stdout",
     "output_type": "stream",
     "text": [
      "             precision    recall  f1-score   support\n",
      "\n",
      "          0       0.59      0.85      0.69     10559\n",
      "          1       0.69      0.35      0.46      9832\n",
      "\n",
      "avg / total       0.64      0.61      0.58     20391\n",
      "\n"
     ]
    }
   ],
   "source": [
    "# ANOVA SVM-C\n",
    "# 1) anova filter, take 3 best ranked features\n",
    "anova_filter = SelectKBest(f_regression, k=20)\n",
    "# 2) svm\n",
    "clf = svm.SVC(kernel='linear')\n",
    "\n",
    "anova_svm = make_pipeline(anova_filter, clf)\n",
    "anova_svm.fit(X_train, y_train)\n",
    "y_pred = anova_svm.predict(X_test)\n",
    "print(classification_report(y_test, y_pred))"
   ]
  },
  {
   "cell_type": "code",
   "execution_count": null,
   "metadata": {},
   "outputs": [],
   "source": []
  },
  {
   "cell_type": "code",
   "execution_count": null,
   "metadata": {},
   "outputs": [],
   "source": []
  },
  {
   "cell_type": "code",
   "execution_count": null,
   "metadata": {},
   "outputs": [],
   "source": []
  },
  {
   "cell_type": "code",
   "execution_count": 221,
   "metadata": {
    "collapsed": true
   },
   "outputs": [
    {
     "data": {
      "text/plain": [
       "array([[-5.93975818e-03,  1.42867668e-02,  7.45472352e-05,\n",
       "        -3.51171599e-02,  2.81204559e-03,  6.29392147e-02,\n",
       "         1.80889689e-01,  3.75142184e-01, -2.16043647e-04,\n",
       "         7.58963518e-02, -2.43135645e-02, -6.15495609e-02,\n",
       "         8.73396877e-02, -5.54292993e-02, -3.50026573e-01,\n",
       "        -2.63251593e-01,  3.26598471e-01,  2.32726958e-01,\n",
       "        -2.88199462e-01,  2.34246725e-01,  1.75253572e-02,\n",
       "         2.34867131e-01, -2.13602966e-01,  7.53518102e-02,\n",
       "         4.50047413e-01, -1.78655931e-01,  2.65301942e-01,\n",
       "        -2.17205260e-01,  1.11889340e-02,  9.64887986e-01,\n",
       "        -3.72217565e-01,  5.22496554e-02, -3.30529102e-01,\n",
       "        -1.95218201e-01, -3.79125560e-01, -2.38818381e-01,\n",
       "        -2.15184643e-01,  1.22063795e-02,  1.75192771e-01,\n",
       "        -1.31680956e+00,  2.99852895e-02,  5.57717022e-01,\n",
       "         3.23849911e-01,  3.79090094e-01, -5.10447175e-02,\n",
       "        -2.90801947e-03, -2.18156177e-01, -2.07400106e-01,\n",
       "        -1.36513266e-02,  3.85254872e-01, -5.39527370e-02,\n",
       "         0.00000000e+00, -5.39527370e-02,  2.78140258e-01,\n",
       "         4.87832505e-01,  5.72839790e-01,  4.70762206e-01,\n",
       "        -7.80033212e-02,  1.00460044e-01,  3.66763190e-01,\n",
       "         7.69370829e-01,  4.98440189e-01,  8.15478244e-01,\n",
       "         4.63575541e-01,  6.26512644e-01,  1.11620918e+00,\n",
       "         9.09454834e-01, -4.98698023e+00, -6.01037187e-01,\n",
       "        -2.37877480e-01, -1.50099266e+00, -2.16812493e+00,\n",
       "         5.25086766e-01,  9.04054208e-01,  6.14082652e-01,\n",
       "         0.00000000e+00, -5.39527370e-02,  8.97587890e-02,\n",
       "         4.49764188e-03, -1.48209168e-01, -2.80204172e-01,\n",
       "         2.26251435e-01,  1.29662705e-01, -2.12130383e-02,\n",
       "        -2.24645330e-02, -1.39937871e-01, -2.13800365e-01,\n",
       "         1.59847628e-01,  1.60027041e-01, -1.40767296e-01,\n",
       "        -6.00521536e-02, -1.31603288e-02, -5.70207405e-01,\n",
       "         2.72170198e-01,  3.40691431e-01, -9.66069609e-02,\n",
       "         5.39703929e-02, -5.40696632e-02, -5.71531054e-03,\n",
       "        -4.81381562e-02,  9.10760506e-02, -4.24408090e-02,\n",
       "        -1.19162112e-01,  1.65741334e-02,  4.98523726e-02,\n",
       "         2.58214071e-01, -2.74745889e-01, -8.72732919e-02,\n",
       "         1.19816686e-01, -1.73769423e-01, -5.39527370e-02,\n",
       "         1.71151481e-02,  1.18816093e-01, -1.54671248e-02,\n",
       "        -1.74416853e-01,  4.91090985e-01, -5.81077256e-01,\n",
       "        -2.00411518e-01,  2.36445052e-01, -1.41085051e-03,\n",
       "        -2.21679800e-01, -1.40110512e-01,  3.09248426e-01,\n",
       "         2.04173325e-02, -9.96866365e-02, -3.89216887e-02,\n",
       "         6.42382557e-02,  1.51640550e-01, -2.65064095e-01,\n",
       "         2.49185407e-01, -1.21509769e-01, -6.82048301e-02,\n",
       "        -1.56395899e-01, -4.06525289e-02,  1.55473486e-01,\n",
       "        -1.23777946e-02, -4.68045668e-01,  1.33394023e-01,\n",
       "         2.22214738e-01,  5.84841695e-02,  1.08399437e-01,\n",
       "        -1.62352174e-01,  2.13892949e-01, -2.67845686e-01,\n",
       "        -4.18317320e-03, -4.97695638e-02]])"
      ]
     },
     "execution_count": 221,
     "metadata": {},
     "output_type": "execute_result"
    }
   ],
   "source": [
    "model.coef_"
   ]
  },
  {
   "cell_type": "code",
   "execution_count": null,
   "metadata": {},
   "outputs": [],
   "source": []
  }
 ],
 "metadata": {
  "kernelspec": {
   "display_name": "Python [conda env:tensorflow]",
   "language": "python",
   "name": "conda-env-tensorflow-py"
  },
  "language_info": {
   "codemirror_mode": {
    "name": "ipython",
    "version": 3
   },
   "file_extension": ".py",
   "mimetype": "text/x-python",
   "name": "python",
   "nbconvert_exporter": "python",
   "pygments_lexer": "ipython3",
   "version": "3.5.4"
  }
 },
 "nbformat": 4,
 "nbformat_minor": 2
}
