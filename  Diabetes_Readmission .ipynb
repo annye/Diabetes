{
 "cells": [
  {
   "cell_type": "markdown",
   "metadata": {},
   "source": [
    "'''\n",
    "\n",
    "Predictive Patient Re-admission Model\n",
    "\n",
    "Date: 14/02/18\n",
    "\n",
    "Author: Annye Braca\n",
    "\n",
    "Email: annyebraca@gmail.com\n",
    "\n",
    "'''"
   ]
  },
  {
   "cell_type": "raw",
   "metadata": {},
   "source": [
    " \n",
    "\n",
    "Each encounter corresponds to a unique patient diagnosed with diabetes,\n",
    " \n",
    "(1) It is an inpatient encounter (a hospital admission).\n",
    "(2) It is a “diabetic” encounter\n",
    "(3) The length of stay \n",
    "(4) Laboratory tests  performed during the encounter.\n",
    "(5) Medications were administered during the encounter.\n",
    "\n",
    "Hemoglobin A1c (HbA1c) is an importantmeasure of glucose\n",
    "control, which is widely applied to measure performance of\n",
    "diabetes care\n",
    "\n",
    " four groups of encounters: \n",
    " (1) no HbA1c test performed, \n",
    " (2) HbA1c performed and in normal range,\n",
    " (3) HbA1c performed and the result is greater than 8% with no change in diabetic medications\n",
    " (4) HbA1c performed, result is greater than 8%, and diabeticmedication was changed.\n",
    " \n",
    " \n",
    " Research Questions\n",
    "  (1)Relationship between the measurement of HbA1c and early readmission  covariates:demographics,severity, Types of disease\n",
    "  (2)Factors that lead to early readmission\n",
    "  (3)The relationship of age and the readmission rate.\n",
    "  Statistical Methods.\n",
    "  (1) Multivariable logistic regression\n",
    "  (2) Pairwise interactions between the covariates(https://en.wikipedia.org/wiki/Interaction_(statistics))   Anova\n",
    "  (3) Logistic function of the readmission rate.\n",
    "  \n",
    "  "
   ]
  },
  {
   "cell_type": "code",
   "execution_count": 252,
   "metadata": {},
   "outputs": [
    {
     "name": "stdout",
     "output_type": "stream",
     "text": [
      "Populating the interactive namespace from numpy and matplotlib\n"
     ]
    }
   ],
   "source": [
    "# Importing Libraries\n",
    "from __future__ import absolute_import, division, print_function\n",
    "import pandas as pd\n",
    "import numpy as np\n",
    "import matplotlib.pyplot as plt\n",
    "%matplotlib inline\n",
    "%pylab inline\n",
    "from scipy.stats import spearmanr\n",
    "from pylab import rcParams\n",
    "import seaborn as sns\n",
    "from sklearn.preprocessing import scale \n",
    "from sklearn.linear_model import LogisticRegression\n",
    "from sklearn.cross_validation import train_test_split\n",
    "from sklearn import metrics\n",
    "from sklearn import preprocessing\n",
    "from sklearn import feature_extraction\n",
    "from sklearn.grid_search import GridSearchCV\n",
    "from sklearn.metrics import classification_report, confusion_matrix\n",
    "from sklearn.linear_model import LinearRegression\n",
    "from sklearn import linear_model\n",
    "from sklearn import model_selection\n",
    "#import statsmodels.api as sm\n",
    "import  sys\n",
    "from keras.optimizers import SGD\n",
    "from keras.models import Sequential\n",
    "from keras.layers import Dense\n",
    "from keras.layers import Dropout\n",
    "from keras.wrappers.scikit_learn import KerasClassifier, KerasRegressor\n",
    "from sklearn.model_selection import StratifiedKFold\n",
    "from sklearn.model_selection import cross_val_score\n",
    "import time\n",
    "import keras\n",
    "from keras.layers import Flatten, Conv1D, Dense, GlobalAvgPool1D, GlobalMaxPool1D, Dropout, MaxPool1D, BatchNormalization"
   ]
  },
  {
   "cell_type": "code",
   "execution_count": 253,
   "metadata": {},
   "outputs": [],
   "source": [
    "def set_trace():\n",
    "    \"\"\"A Poor mans break point\"\"\"\n",
    "    # without this in iPython debugger can generate strange characters.\n",
    "    from IPython.core.debugger import Pdb\n",
    "    Pdb().set_trace(sys._getframe().f_back)\n"
   ]
  },
  {
   "cell_type": "code",
   "execution_count": 254,
   "metadata": {},
   "outputs": [],
   "source": [
    "def one_hot_dataframe(data, cols, replace=False):\n",
    "    \"\"\"Create one-hot encodings.\"\"\"\n",
    "    vec = feature_extraction.DictVectorizer()\n",
    "    mkdict = lambda row: dict((col, row[col]) for col in cols)\n",
    "    vecData = pd.DataFrame(vec.fit_transform(data[cols].apply(mkdict, axis=1)).toarray())\n",
    "    vecData.columns = vec.get_feature_names()\n",
    "    vecData.index = data.index\n",
    "    if replace:\n",
    "        data = data.drop(cols, axis=1)\n",
    "        data = data.join(vecData)\n",
    "    return (data, vecData)"
   ]
  },
  {
   "cell_type": "code",
   "execution_count": 255,
   "metadata": {
    "scrolled": true
   },
   "outputs": [],
   "source": [
    "# Read in data\n",
    "data = pd.read_csv('../static/diabetic_data.csv')\n",
    "discharge = pd.ExcelFile('../static/discharge.xlsx')\n",
    "discharge = discharge.parse('Data')\n",
    "admission = pd.ExcelFile('../static/admission.xlsx')\n",
    "admission = admission.parse('Data')\n",
    "admission_type = pd.ExcelFile('../static/admission_type_ID.xlsx')\n",
    "admission_type = admission_type.parse('Data')"
   ]
  },
  {
   "cell_type": "code",
   "execution_count": 256,
   "metadata": {},
   "outputs": [],
   "source": [
    "\n",
    "data.replace('?' , np.nan, inplace=True)\n",
    "data.drop(['weight', 'medical_specialty', 'payer_code', 'diag_2', 'diag_3',  'patient_nbr', 'encounter_id'], axis=1, inplace=True)"
   ]
  },
  {
   "cell_type": "code",
   "execution_count": 257,
   "metadata": {},
   "outputs": [],
   "source": [
    "data = data[~(data['diag_1'].str.startswith('V') | (data['diag_1'].str.startswith('E')))]"
   ]
  },
  {
   "cell_type": "code",
   "execution_count": 258,
   "metadata": {},
   "outputs": [],
   "source": [
    "# Map discharge and admission id descriptions\n",
    "discharge_map = dict(zip(discharge['discharge_disposition_id'], discharge['description']))\n",
    "data['discharge_description'] = data['discharge_disposition_id'].map(discharge_map)\n",
    "admission_map = dict(zip(admission['admission_source_id'], admission['description']))\n",
    "data['admission_description'] = data['admission_source_id'].map(admission_map)\n",
    "# bring in admission type id\n",
    "admission_type_map = dict(zip(admission_type['admission_type_id'], admission['description']))\n",
    "data['admission_type_description'] = data['admission_type_id'].map(admission_type_map)\n",
    "# Drop original ids as these are not dropped in one-hot_encoding function\n",
    "data.drop(['discharge_disposition_id', 'admission_source_id', 'admission_type_id'], axis=1, inplace=True)"
   ]
  },
  {
   "cell_type": "code",
   "execution_count": 259,
   "metadata": {},
   "outputs": [],
   "source": [
    "\n",
    "data.dropna(inplace=True)"
   ]
  },
  {
   "cell_type": "code",
   "execution_count": 260,
   "metadata": {},
   "outputs": [],
   "source": [
    "data, med = one_hot_dataframe(data, [\"admission_description\",\n",
    "                                     \"discharge_description\",\n",
    "                                     \"admission_type_description\",\n",
    "                                     \"race\",\n",
    "                                     \"gender\",\n",
    "                                     \"metformin\",\n",
    "                                     \"repaglinide\",\n",
    "                                     \"nateglinide\",\n",
    "                                     \"chlorpropamide\",\n",
    "                                     \"glimepiride\",\n",
    "                                     \"acetohexamide\",\n",
    "                                     \"glipizide\",\n",
    "                                     \"glyburide\",\n",
    "                                     \"tolbutamide\",\n",
    "                                     \"pioglitazone\",\n",
    "                                     \"rosiglitazone\",\n",
    "                                     \"acarbose\",\n",
    "                                     \"miglitol\",\n",
    "                                     \"troglitazone\",\n",
    "                                     \"tolazamide\",\n",
    "                                     \"examide\",\n",
    "                                     \"citoglipton\",\n",
    "                                     \"insulin\",\n",
    "                                     \"glyburide-metformin\",\n",
    "                                     \"glipizide-metformin\",\n",
    "                                     \"glimepiride-pioglitazone\",\n",
    "                                     \"metformin-rosiglitazone\",\n",
    "                                     \"metformin-pioglitazone\",\n",
    "                                     'A1Cresult',\n",
    "                                     'max_glu_serum',\n",
    "                                     'change',\n",
    "                                     'diabetesMed'], replace=True)\n"
   ]
  },
  {
   "cell_type": "code",
   "execution_count": 261,
   "metadata": {},
   "outputs": [
    {
     "name": "stderr",
     "output_type": "stream",
     "text": [
      "C:\\Users\\Creative\\Anaconda2\\lib\\site-packages\\ipykernel\\__main__.py:2: DeprecationWarning: \n",
      ".ix is deprecated. Please use\n",
      ".loc for label based indexing or\n",
      ".iloc for positional indexing\n",
      "\n",
      "See the documentation here:\n",
      "http://pandas.pydata.org/pandas-docs/stable/indexing.html#ix-indexer-is-deprecated\n",
      "  from ipykernel import kernelapp as app\n"
     ]
    },
    {
     "data": {
      "text/html": [
       "<div>\n",
       "<style scoped>\n",
       "    .dataframe tbody tr th:only-of-type {\n",
       "        vertical-align: middle;\n",
       "    }\n",
       "\n",
       "    .dataframe tbody tr th {\n",
       "        vertical-align: top;\n",
       "    }\n",
       "\n",
       "    .dataframe thead th {\n",
       "        text-align: right;\n",
       "    }\n",
       "</style>\n",
       "<table border=\"1\" class=\"dataframe\">\n",
       "  <thead>\n",
       "    <tr style=\"text-align: right;\">\n",
       "      <th></th>\n",
       "      <th>age</th>\n",
       "      <th>time_in_hospital</th>\n",
       "      <th>num_lab_procedures</th>\n",
       "      <th>num_procedures</th>\n",
       "      <th>num_medications</th>\n",
       "      <th>number_outpatient</th>\n",
       "      <th>number_emergency</th>\n",
       "      <th>number_inpatient</th>\n",
       "      <th>diag_1</th>\n",
       "      <th>number_diagnoses</th>\n",
       "      <th>...</th>\n",
       "      <th>rosiglitazone=Down</th>\n",
       "      <th>rosiglitazone=No</th>\n",
       "      <th>rosiglitazone=Steady</th>\n",
       "      <th>rosiglitazone=Up</th>\n",
       "      <th>tolazamide=No</th>\n",
       "      <th>tolazamide=Steady</th>\n",
       "      <th>tolbutamide=No</th>\n",
       "      <th>tolbutamide=Steady</th>\n",
       "      <th>troglitazone=No</th>\n",
       "      <th>troglitazone=Steady</th>\n",
       "    </tr>\n",
       "  </thead>\n",
       "  <tbody>\n",
       "  </tbody>\n",
       "</table>\n",
       "<p>0 rows × 147 columns</p>\n",
       "</div>"
      ],
      "text/plain": [
       "Empty DataFrame\n",
       "Columns: [age, time_in_hospital, num_lab_procedures, num_procedures, num_medications, number_outpatient, number_emergency, number_inpatient, diag_1, number_diagnoses, readmitted, A1Cresult=>7, A1Cresult=>8, A1Cresult=None, A1Cresult=Norm, acarbose=Down, acarbose=No, acarbose=Steady, acarbose=Up, acetohexamide=No, acetohexamide=Steady, admission_description= Court/Law Enforcement, admission_description= Physician Referral, admission_description= Sick Baby, admission_description=Clinic Referral, admission_description=Emergency Room, admission_description=Extramural Birth, admission_description=HMO Referral, admission_description=Normal Delivery, admission_description=Not Available, admission_description=Not Mapped, admission_description=Transfer from Ambulatory Surgery Center, admission_description=Transfer from a Skilled Nursing Facility (SNF), admission_description=Transfer from a hospital, admission_description=Transfer from another health care facility, admission_description=Transfer from critial access hospital, admission_description=Transfer from hospital inpt/same fac reslt in a sep claim, admission_type_description= Court/Law Enforcement, admission_type_description= Physician Referral, admission_type_description=Clinic Referral, admission_type_description=Emergency Room, admission_type_description=HMO Referral, admission_type_description=Transfer from a Skilled Nursing Facility (SNF), admission_type_description=Transfer from a hospital, admission_type_description=Transfer from another health care facility, change=Ch, change=No, chlorpropamide=Down, chlorpropamide=No, chlorpropamide=Steady, chlorpropamide=Up, citoglipton=No, diabetesMed=No, diabetesMed=Yes, discharge_description=Admitted as an inpatient to this hospital, discharge_description=Discharged to home, discharge_description=Discharged/transferred to ICF, discharge_description=Discharged/transferred to SNF, discharge_description=Discharged/transferred to a federal health care facility., discharge_description=Discharged/transferred to a long term care hospital., discharge_description=Discharged/transferred to a nursing facility certified under Medicaid but not certified under Medicare., discharge_description=Discharged/transferred to another rehab fac including rehab units of a hospital ., discharge_description=Discharged/transferred to another short term hospital, discharge_description=Discharged/transferred to another type of inpatient care institution, discharge_description=Discharged/transferred to home under care of Home IV provider, discharge_description=Discharged/transferred to home with home health service, discharge_description=Discharged/transferred within this institution to Medicare approved swing bed, discharge_description=Discharged/transferred/referred to a psychiatric hospital of psychiatric distinct part unit of a hospital, discharge_description=Expired, discharge_description=Expired at home. Medicaid only, hospice., discharge_description=Expired in a medical facility. Medicaid only, hospice., discharge_description=Hospice / home, discharge_description=Hospice / medical facility, discharge_description=Left AMA, discharge_description=Neonate discharged to another hospital for neonatal aftercare, discharge_description=Not Mapped, discharge_description=Still patient or expected to return for outpatient services, examide=No, gender=Female, gender=Male, gender=Unknown/Invalid, glimepiride-pioglitazone=No, glimepiride-pioglitazone=Steady, glimepiride=Down, glimepiride=No, glimepiride=Steady, glimepiride=Up, glipizide-metformin=No, glipizide-metformin=Steady, glipizide=Down, glipizide=No, glipizide=Steady, glipizide=Up, glyburide-metformin=Down, glyburide-metformin=No, glyburide-metformin=Steady, glyburide-metformin=Up, glyburide=Down, glyburide=No, glyburide=Steady, ...]\n",
       "Index: []\n",
       "\n",
       "[0 rows x 147 columns]"
      ]
     },
     "execution_count": 261,
     "metadata": {},
     "output_type": "execute_result"
    }
   ],
   "source": [
    "inds = pd.isnull(data).any(1).nonzero()[0]\n",
    "data.ix[inds]"
   ]
  },
  {
   "cell_type": "code",
   "execution_count": 262,
   "metadata": {},
   "outputs": [],
   "source": [
    "# Mapping Age\n",
    "age_ranges = list(set(data['age']))#\n",
    "age_ordinal = [1, 8, 7, 6, 0, 9, 4, 2, 5, 3]\n",
    "age_map = dict(zip(age_ranges, age_ordinal))\n",
    "data['age'] = data['age'].map(age_map)"
   ]
  },
  {
   "cell_type": "code",
   "execution_count": 263,
   "metadata": {},
   "outputs": [],
   "source": [
    "#mapping readmitted\n",
    "readmitted_ranges = list(set(data['readmitted']))\n",
    "readmitted_ordinal = [2, 1, 0]\n",
    "readmitted_map = dict(zip(readmitted_ranges, readmitted_ordinal))\n",
    "data['readmitted'] = data['readmitted'].map(readmitted_map)"
   ]
  },
  {
   "cell_type": "code",
   "execution_count": 264,
   "metadata": {},
   "outputs": [],
   "source": [
    "###########Subsetting data  , we are interested just in people with a Diabetes condition  #################\n"
   ]
  },
  {
   "cell_type": "code",
   "execution_count": null,
   "metadata": {},
   "outputs": [],
   "source": []
  },
  {
   "cell_type": "code",
   "execution_count": 266,
   "metadata": {},
   "outputs": [],
   "source": [
    "diabetes = data[data['diabetesMed=Yes'] == 1]\n"
   ]
  },
  {
   "cell_type": "code",
   "execution_count": 267,
   "metadata": {},
   "outputs": [
    {
     "name": "stderr",
     "output_type": "stream",
     "text": [
      "C:\\Users\\Creative\\Anaconda2\\lib\\site-packages\\ipykernel\\__main__.py:4: SettingWithCopyWarning: \n",
      "A value is trying to be set on a copy of a slice from a DataFrame\n",
      "\n",
      "See the caveats in the documentation: http://pandas.pydata.org/pandas-docs/stable/indexing.html#indexing-view-versus-copy\n"
     ]
    }
   ],
   "source": [
    "X = diabetes\n",
    "inds = pd.isnull(X).any(1).nonzero()[0]\n",
    "y = diabetes['readmitted']\n",
    "X.drop('readmitted', axis=1, inplace=True)"
   ]
  },
  {
   "cell_type": "code",
   "execution_count": null,
   "metadata": {},
   "outputs": [],
   "source": []
  },
  {
   "cell_type": "code",
   "execution_count": null,
   "metadata": {},
   "outputs": [],
   "source": []
  },
  {
   "cell_type": "code",
   "execution_count": 268,
   "metadata": {},
   "outputs": [],
   "source": [
    "# Separate training and test sets\n",
    "X_train, X_test, y_train, y_test = train_test_split(X, y, test_size=0.25, random_state=33)"
   ]
  },
  {
   "cell_type": "code",
   "execution_count": null,
   "metadata": {},
   "outputs": [],
   "source": []
  },
  {
   "cell_type": "code",
   "execution_count": null,
   "metadata": {},
   "outputs": [],
   "source": []
  },
  {
   "cell_type": "raw",
   "metadata": {},
   "source": [
    "\n",
    "\n",
    "-------------------------Logistic Regression--------------------------"
   ]
  },
  {
   "cell_type": "code",
   "execution_count": 82,
   "metadata": {},
   "outputs": [
    {
     "name": "stdout",
     "output_type": "stream",
     "text": [
      "Accuracy of logistic regression classifier on test set: 0.57\n"
     ]
    }
   ],
   "source": [
    "\n",
    "model = LogisticRegression()\n",
    "model.fit(X_train, y_train)\n",
    "y_pred = model.predict(X_test)\n",
    "print('Accuracy of logistic regression classifier on test set: {:.2f}'.format(model.score(X_test, y_test)))"
   ]
  },
  {
   "cell_type": "code",
   "execution_count": 83,
   "metadata": {},
   "outputs": [
    {
     "name": "stdout",
     "output_type": "stream",
     "text": [
      "10-fold cross validation average accuracy: 0.564\n"
     ]
    }
   ],
   "source": [
    "kfold = model_selection.KFold(n_splits=10, random_state=7)\n",
    "modelCV = LogisticRegression()\n",
    "scoring = 'accuracy'\n",
    "results = model_selection.cross_val_score(modelCV, X_train, y_train, cv=kfold, scoring=scoring)\n",
    "print(\"10-fold cross validation average accuracy: %.3f\" % (results.mean()))"
   ]
  },
  {
   "cell_type": "code",
   "execution_count": 84,
   "metadata": {},
   "outputs": [
    {
     "name": "stdout",
     "output_type": "stream",
     "text": [
      "             precision    recall  f1-score   support\n",
      "\n",
      "          0       0.59      0.86      0.70      8857\n",
      "          1       0.36      0.02      0.03      1915\n",
      "          2       0.52      0.33      0.40      6221\n",
      "\n",
      "avg / total       0.54      0.57      0.51     16993\n",
      "\n"
     ]
    }
   ],
   "source": [
    "from sklearn.metrics import classification_report\n",
    "print(classification_report(y_test, y_pred))"
   ]
  },
  {
   "cell_type": "raw",
   "metadata": {},
   "source": [
    "--------------- End of Logisitic Regression ------------------------"
   ]
  },
  {
   "cell_type": "code",
   "execution_count": null,
   "metadata": {},
   "outputs": [],
   "source": []
  },
  {
   "cell_type": "code",
   "execution_count": null,
   "metadata": {},
   "outputs": [],
   "source": []
  },
  {
   "cell_type": "code",
   "execution_count": null,
   "metadata": {},
   "outputs": [],
   "source": []
  },
  {
   "cell_type": "code",
   "execution_count": null,
   "metadata": {},
   "outputs": [],
   "source": [
    "###############Convolutional neural networks####################"
   ]
  },
  {
   "cell_type": "code",
   "execution_count": null,
   "metadata": {},
   "outputs": [],
   "source": []
  },
  {
   "cell_type": "code",
   "execution_count": 85,
   "metadata": {},
   "outputs": [],
   "source": [
    "from keras.regularizers import L1L2"
   ]
  },
  {
   "cell_type": "code",
   "execution_count": 270,
   "metadata": {},
   "outputs": [],
   "source": [
    "def create_baseline(input_nodes,\n",
    "                    hidden1_nodes,\n",
    "                    hidden2_nodes,\n",
    "                    hidden3_nodes,\n",
    "                    output_nodes,\n",
    "                    dropout_rate):\n",
    "        # NN architecturE\n",
    "        model = Sequential()\n",
    "        model.add(GlobalAvgPool1D(input_shape=(146,3,)))\n",
    "        model.add(Dense(output_dim=hidden1_nodes,\n",
    "                        input_dim=input_nodes,\n",
    "                        activation='relu'))\n",
    "        model.add(Dropout(dropout_rate))\n",
    "        model.add(Dense(output_dim=hidden2_nodes,\n",
    "                        input_dim=hidden1_nodes,\n",
    "                        activation='relu'))\n",
    "        model.add(Dropout(dropout_rate))\n",
    "        model.add(Dense(output_dim=hidden3_nodes,\n",
    "                        input_dim=hidden2_nodes,\n",
    "                        activation='relu'))\n",
    "        model.add(Dropout(dropout_rate))\n",
    "        model.add(Dense(output_dim=hidden4_nodes,\n",
    "                        input_dim=hidden3_nodes,\n",
    "                        activation='relu'))\n",
    "        model.add(Dropout(dropout_rate))\n",
    "        model.add(Dense(output_dim=output_nodes,\n",
    "                        input_dim=hidden4_nodes,\n",
    "                        activation='sigmoid'))\n",
    "        # Compile model\n",
    "        model.compile(loss='categorical_crossentropy',\n",
    "                      optimizer='adam',\n",
    "                      metrics=['accuracy'])\n",
    "        return model"
   ]
  },
  {
   "cell_type": "code",
   "execution_count": 274,
   "metadata": {},
   "outputs": [],
   "source": [
    "# Separate training and test sets\n",
    "X_train, X_test, y_train, y_test = train_test_split(X, y, test_size=0.25, random_state=33)"
   ]
  },
  {
   "cell_type": "code",
   "execution_count": 275,
   "metadata": {},
   "outputs": [],
   "source": [
    "# categorical_crossentrophy expects targets to be binary matrices - if target are integer classes\n",
    "# we need to convert to the expected format using to categorical\n",
    "# fix random seed for reproducibility\n",
    "y_train = np.array(y_train)\n",
    "y_train = [[x] for x in y_train]\n",
    "y_train = np.array(y_train)\n",
    "y_test = np.array(y_test)\n",
    "y_test = [[x] for x in y_test]\n",
    "y_test = np.array(y_test)"
   ]
  },
  {
   "cell_type": "code",
   "execution_count": null,
   "metadata": {},
   "outputs": [],
   "source": []
  },
  {
   "cell_type": "code",
   "execution_count": 167,
   "metadata": {},
   "outputs": [
    {
     "name": "stderr",
     "output_type": "stream",
     "text": [
      "C:\\Users\\Creative\\Anaconda2\\lib\\site-packages\\ipykernel\\__main__.py:11: UserWarning: Update your `Dense` call to the Keras 2 API: `Dense(units=50, activation=\"relu\", input_dim=146)`\n",
      "C:\\Users\\Creative\\Anaconda2\\lib\\site-packages\\ipykernel\\__main__.py:15: UserWarning: Update your `Dense` call to the Keras 2 API: `Dense(units=50, activation=\"relu\", input_dim=50)`\n",
      "C:\\Users\\Creative\\Anaconda2\\lib\\site-packages\\ipykernel\\__main__.py:19: UserWarning: Update your `Dense` call to the Keras 2 API: `Dense(units=50, activation=\"relu\", input_dim=50)`\n",
      "C:\\Users\\Creative\\Anaconda2\\lib\\site-packages\\ipykernel\\__main__.py:23: UserWarning: Update your `Dense` call to the Keras 2 API: `Dense(units=50, activation=\"relu\", input_dim=50)`\n",
      "C:\\Users\\Creative\\Anaconda2\\lib\\site-packages\\ipykernel\\__main__.py:27: UserWarning: Update your `Dense` call to the Keras 2 API: `Dense(units=3, activation=\"sigmoid\", input_dim=50)`\n"
     ]
    },
    {
     "name": "stdout",
     "output_type": "stream",
     "text": [
      "Epoch 1/100\n",
      "50977/50977 [==============================] - 6s 111us/step - loss: 1.0343 - acc: 0.5132\n",
      "Epoch 2/100\n",
      "50977/50977 [==============================] - 5s 97us/step - loss: 0.9502 - acc: 0.5175\n",
      "Epoch 3/100\n",
      "50977/50977 [==============================] - 5s 104us/step - loss: 0.9337 - acc: 0.5312\n",
      "Epoch 4/100\n",
      "50977/50977 [==============================] - 5s 99us/step - loss: 0.9232 - acc: 0.5528\n",
      "Epoch 5/100\n",
      "50977/50977 [==============================] - 5s 100us/step - loss: 0.9186 - acc: 0.5529\n",
      "Epoch 6/100\n",
      "50977/50977 [==============================] - 5s 101us/step - loss: 0.9136 - acc: 0.5602\n",
      "Epoch 7/100\n",
      "50977/50977 [==============================] - 5s 101us/step - loss: 0.9097 - acc: 0.5585\n",
      "Epoch 8/100\n",
      "50977/50977 [==============================] - 5s 100us/step - loss: 0.9075 - acc: 0.5616\n",
      "Epoch 9/100\n",
      "50977/50977 [==============================] - 5s 100us/step - loss: 0.9069 - acc: 0.5604\n",
      "Epoch 10/100\n",
      "50977/50977 [==============================] - 5s 100us/step - loss: 0.9055 - acc: 0.5628\n",
      "Epoch 11/100\n",
      "50977/50977 [==============================] - 5s 103us/step - loss: 0.9043 - acc: 0.5638\n",
      "Epoch 12/100\n",
      "50977/50977 [==============================] - 5s 101us/step - loss: 0.9057 - acc: 0.5603\n",
      "Epoch 13/100\n",
      "50977/50977 [==============================] - 5s 102us/step - loss: 0.9021 - acc: 0.5641\n",
      "Epoch 14/100\n",
      "50977/50977 [==============================] - 5s 103us/step - loss: 0.9012 - acc: 0.5632\n",
      "Epoch 15/100\n",
      "50977/50977 [==============================] - 5s 105us/step - loss: 0.9001 - acc: 0.5655\n",
      "Epoch 16/100\n",
      "50977/50977 [==============================] - 5s 101us/step - loss: 0.9001 - acc: 0.5634\n",
      "Epoch 17/100\n",
      "50977/50977 [==============================] - 5s 102us/step - loss: 0.9008 - acc: 0.5641\n",
      "Epoch 18/100\n",
      "50977/50977 [==============================] - 5s 101us/step - loss: 0.8992 - acc: 0.5653\n",
      "Epoch 19/100\n",
      "50977/50977 [==============================] - 5s 101us/step - loss: 0.8997 - acc: 0.5650\n",
      "Epoch 20/100\n",
      "50977/50977 [==============================] - 5s 101us/step - loss: 0.8981 - acc: 0.5654\n",
      "Epoch 21/100\n",
      "50977/50977 [==============================] - 5s 101us/step - loss: 0.8972 - acc: 0.5667\n",
      "Epoch 22/100\n",
      "50977/50977 [==============================] - 5s 101us/step - loss: 0.8949 - acc: 0.5675\n",
      "Epoch 23/100\n",
      "50977/50977 [==============================] - 5s 101us/step - loss: 0.8963 - acc: 0.5670\n",
      "Epoch 24/100\n",
      "50977/50977 [==============================] - 5s 101us/step - loss: 0.8947 - acc: 0.5669\n",
      "Epoch 25/100\n",
      "50977/50977 [==============================] - 5s 101us/step - loss: 0.8943 - acc: 0.5683\n",
      "Epoch 26/100\n",
      "50977/50977 [==============================] - 5s 101us/step - loss: 0.8937 - acc: 0.5676\n",
      "Epoch 27/100\n",
      "50977/50977 [==============================] - 5s 101us/step - loss: 0.8955 - acc: 0.5663\n",
      "Epoch 28/100\n",
      "50977/50977 [==============================] - 5s 106us/step - loss: 0.8929 - acc: 0.5698\n",
      "Epoch 29/100\n",
      "50977/50977 [==============================] - 6s 112us/step - loss: 0.8934 - acc: 0.5690\n",
      "Epoch 30/100\n",
      "50977/50977 [==============================] - ETA: 0s - loss: 0.8916 - acc: 0.5695- ETA: 0s - loss: 0.8911 - acc: 0.56 - 6s 110us/step - loss: 0.8916 - acc: 0.5696\n",
      "Epoch 31/100\n",
      "50977/50977 [==============================] - 6s 110us/step - loss: 0.8927 - acc: 0.5680\n",
      "Epoch 32/100\n",
      "50977/50977 [==============================] - 5s 102us/step - loss: 0.8908 - acc: 0.5695\n",
      "Epoch 33/100\n",
      "50977/50977 [==============================] - 5s 103us/step - loss: 0.8907 - acc: 0.5703\n",
      "Epoch 34/100\n",
      "50977/50977 [==============================] - 5s 108us/step - loss: 0.8901 - acc: 0.5704\n",
      "Epoch 35/100\n",
      "50977/50977 [==============================] - 5s 101us/step - loss: 0.8911 - acc: 0.5706\n",
      "Epoch 36/100\n",
      "50977/50977 [==============================] - 5s 102us/step - loss: 0.8882 - acc: 0.5713\n",
      "Epoch 37/100\n",
      "50977/50977 [==============================] - 5s 101us/step - loss: 0.8887 - acc: 0.5713\n",
      "Epoch 38/100\n",
      "50977/50977 [==============================] - 5s 105us/step - loss: 0.8871 - acc: 0.5716\n",
      "Epoch 39/100\n",
      "50977/50977 [==============================] - 5s 108us/step - loss: 0.8891 - acc: 0.5714\n",
      "Epoch 40/100\n",
      "50977/50977 [==============================] - 6s 116us/step - loss: 0.8862 - acc: 0.5740\n",
      "Epoch 41/100\n",
      "50977/50977 [==============================] - 6s 116us/step - loss: 0.8870 - acc: 0.5706\n",
      "Epoch 42/100\n",
      "50977/50977 [==============================] - 5s 101us/step - loss: 0.8870 - acc: 0.5727\n",
      "Epoch 43/100\n",
      "50977/50977 [==============================] - 5s 101us/step - loss: 0.8852 - acc: 0.5726\n",
      "Epoch 44/100\n",
      "50977/50977 [==============================] - 5s 106us/step - loss: 0.8850 - acc: 0.5740 0s - loss: 0.8844 - acc: 0.57\n",
      "Epoch 45/100\n",
      "50977/50977 [==============================] - 6s 116us/step - loss: 0.8848 - acc: 0.5723\n",
      "Epoch 46/100\n",
      "50977/50977 [==============================] - 5s 100us/step - loss: 0.8837 - acc: 0.5731\n",
      "Epoch 47/100\n",
      "50977/50977 [==============================] - 5s 100us/step - loss: 0.8840 - acc: 0.5727\n",
      "Epoch 48/100\n",
      "50977/50977 [==============================] - 5s 101us/step - loss: 0.8813 - acc: 0.5739\n",
      "Epoch 49/100\n",
      "50977/50977 [==============================] - 5s 100us/step - loss: 0.8816 - acc: 0.5737\n",
      "Epoch 50/100\n",
      "50977/50977 [==============================] - 5s 100us/step - loss: 0.8811 - acc: 0.5744\n",
      "Epoch 51/100\n",
      "50977/50977 [==============================] - 5s 101us/step - loss: 0.8809 - acc: 0.5756\n",
      "Epoch 52/100\n",
      "50977/50977 [==============================] - 5s 101us/step - loss: 0.8806 - acc: 0.5748\n",
      "Epoch 53/100\n",
      "50977/50977 [==============================] - 5s 100us/step - loss: 0.8802 - acc: 0.5745\n",
      "Epoch 54/100\n",
      "50977/50977 [==============================] - 5s 101us/step - loss: 0.8794 - acc: 0.5754\n",
      "Epoch 55/100\n",
      "50977/50977 [==============================] - 5s 100us/step - loss: 0.8786 - acc: 0.5765\n",
      "Epoch 56/100\n",
      "50977/50977 [==============================] - 5s 100us/step - loss: 0.8784 - acc: 0.5780\n",
      "Epoch 57/100\n",
      "50977/50977 [==============================] - 5s 101us/step - loss: 0.8785 - acc: 0.5777\n",
      "Epoch 58/100\n",
      "50977/50977 [==============================] - 5s 100us/step - loss: 0.8781 - acc: 0.5775\n",
      "Epoch 59/100\n",
      "50977/50977 [==============================] - 5s 102us/step - loss: 0.8770 - acc: 0.5772\n",
      "Epoch 60/100\n",
      "50977/50977 [==============================] - 5s 105us/step - loss: 0.8766 - acc: 0.5773\n",
      "Epoch 61/100\n",
      "50977/50977 [==============================] - 5s 100us/step - loss: 0.8763 - acc: 0.5761\n",
      "Epoch 62/100\n",
      "50977/50977 [==============================] - 5s 100us/step - loss: 0.8750 - acc: 0.5794\n",
      "Epoch 63/100\n",
      "50977/50977 [==============================] - 5s 101us/step - loss: 0.8741 - acc: 0.5792\n",
      "Epoch 64/100\n",
      "50977/50977 [==============================] - 5s 100us/step - loss: 0.8743 - acc: 0.5792\n",
      "Epoch 65/100\n",
      "50977/50977 [==============================] - 5s 100us/step - loss: 0.8743 - acc: 0.5804\n",
      "Epoch 66/100\n",
      "50977/50977 [==============================] - 5s 101us/step - loss: 0.8742 - acc: 0.5765\n",
      "Epoch 67/100\n",
      "50977/50977 [==============================] - 5s 100us/step - loss: 0.8731 - acc: 0.5798\n",
      "Epoch 68/100\n",
      "50977/50977 [==============================] - 5s 100us/step - loss: 0.8711 - acc: 0.5796\n",
      "Epoch 69/100\n",
      "50977/50977 [==============================] - 5s 101us/step - loss: 0.8731 - acc: 0.5806\n",
      "Epoch 70/100\n",
      "50977/50977 [==============================] - 5s 99us/step - loss: 0.8719 - acc: 0.5799\n",
      "Epoch 71/100\n",
      "50977/50977 [==============================] - 5s 101us/step - loss: 0.8701 - acc: 0.5809\n",
      "Epoch 72/100\n",
      "50977/50977 [==============================] - 5s 100us/step - loss: 0.8710 - acc: 0.5802\n",
      "Epoch 73/100\n",
      "50977/50977 [==============================] - 5s 100us/step - loss: 0.8709 - acc: 0.5806\n",
      "Epoch 74/100\n",
      "50977/50977 [==============================] - 5s 100us/step - loss: 0.8697 - acc: 0.5809\n",
      "Epoch 75/100\n",
      "50977/50977 [==============================] - 5s 101us/step - loss: 0.8696 - acc: 0.5816\n",
      "Epoch 76/100\n",
      "50977/50977 [==============================] - 5s 100us/step - loss: 0.8685 - acc: 0.5809\n",
      "Epoch 77/100\n",
      "50977/50977 [==============================] - 5s 100us/step - loss: 0.8702 - acc: 0.5809\n",
      "Epoch 78/100\n",
      "50977/50977 [==============================] - 5s 101us/step - loss: 0.8667 - acc: 0.5840\n",
      "Epoch 79/100\n"
     ]
    },
    {
     "name": "stdout",
     "output_type": "stream",
     "text": [
      "50977/50977 [==============================] - 5s 100us/step - loss: 0.8660 - acc: 0.5824\n",
      "Epoch 80/100\n",
      "50977/50977 [==============================] - 5s 101us/step - loss: 0.8658 - acc: 0.5835\n",
      "Epoch 81/100\n",
      "50977/50977 [==============================] - 5s 101us/step - loss: 0.8656 - acc: 0.5827\n",
      "Epoch 82/100\n",
      "50977/50977 [==============================] - 5s 100us/step - loss: 0.8646 - acc: 0.5821\n",
      "Epoch 83/100\n",
      "50977/50977 [==============================] - 5s 103us/step - loss: 0.8659 - acc: 0.5831\n",
      "Epoch 84/100\n",
      "50977/50977 [==============================] - 5s 100us/step - loss: 0.8646 - acc: 0.5838\n",
      "Epoch 85/100\n",
      "50977/50977 [==============================] - 5s 100us/step - loss: 0.8630 - acc: 0.5835\n",
      "Epoch 86/100\n",
      "50977/50977 [==============================] - 5s 101us/step - loss: 0.8623 - acc: 0.5833\n",
      "Epoch 87/100\n",
      "50977/50977 [==============================] - 5s 100us/step - loss: 0.8633 - acc: 0.5839\n",
      "Epoch 88/100\n",
      "50977/50977 [==============================] - 5s 104us/step - loss: 0.8625 - acc: 0.5846\n",
      "Epoch 89/100\n",
      "50977/50977 [==============================] - 6s 112us/step - loss: 0.8630 - acc: 0.5850\n",
      "Epoch 90/100\n",
      "50977/50977 [==============================] - 7s 128us/step - loss: 0.8612 - acc: 0.5849\n",
      "Epoch 91/100\n",
      "50977/50977 [==============================] - 6s 116us/step - loss: 0.8615 - acc: 0.5849 0s - loss: 0.8615 - \n",
      "Epoch 92/100\n",
      "50977/50977 [==============================] - 6s 110us/step - loss: 0.8605 - acc: 0.5856\n",
      "Epoch 93/100\n",
      "50977/50977 [==============================] - 6s 119us/step - loss: 0.8613 - acc: 0.5850\n",
      "Epoch 94/100\n",
      "50977/50977 [==============================] - 6s 114us/step - loss: 0.8618 - acc: 0.5857\n",
      "Epoch 95/100\n",
      "50977/50977 [==============================] - 6s 118us/step - loss: 0.8589 - acc: 0.5862\n",
      "Epoch 96/100\n",
      "50977/50977 [==============================] - 5s 108us/step - loss: 0.8589 - acc: 0.5859\n",
      "Epoch 97/100\n",
      "50977/50977 [==============================] - 5s 101us/step - loss: 0.8573 - acc: 0.5868\n",
      "Epoch 98/100\n",
      "50977/50977 [==============================] - 5s 101us/step - loss: 0.8571 - acc: 0.5870\n",
      "Epoch 99/100\n",
      "50977/50977 [==============================] - 5s 101us/step - loss: 0.8592 - acc: 0.5847\n",
      "Epoch 100/100\n",
      "50977/50977 [==============================] - 5s 101us/step - loss: 0.8576 - acc: 0.5853\n",
      "--- 529.476000071 seconds ---\n"
     ]
    },
    {
     "data": {
      "text/plain": [
       "'\\n# evaluate model with standardized dataset\\nestimator = KerasClassifier(build_fn=model,\\n                            nb_epoch=100,\\n                            batch_size=200,\\n                            verbose=2)\\nkfold = StratifiedKFold(n_splits=10,\\n                        shuffle=True,\\n                        random_state=seed)\\nresults = cross_val_score(estimator,\\n                          X,\\n                          y,\\n                          cv=kfold)\\n'"
      ]
     },
     "execution_count": 167,
     "metadata": {},
     "output_type": "execute_result"
    }
   ],
   "source": [
    "\"\"\" Keras Sequential model with Manual validation\n",
    "\"\"\"\n",
    "start_time = time.time()\n",
    "\n",
    "\n",
    "\n",
    "y_train = keras.utils.to_categorical(y_train, num_classes=3)\n",
    "y_test = keras.utils.to_categorical(y_test, num_classes=3)\n",
    "\n",
    "seed = 13\n",
    "np.random.seed(seed)\n",
    "cvscores = []\n",
    "learning_rate = 0.1\n",
    "sgd = SGD(lr=learning_rate, momentum=0.05, nesterov=False)\n",
    "\n",
    "input_nodes = 146\n",
    "hidden1_nodes = 50\n",
    "hidden2_nodes = 50\n",
    "hidden3_nodes = 50\n",
    "hidden4_nodes = 50\n",
    "output_nodes = 3\n",
    "dropout_rate = 0\n",
    "\n",
    "\n",
    "model = create_baseline(input_nodes,\n",
    "                        hidden1_nodes,\n",
    "                        hidden2_nodes,\n",
    "                        hidden3_nodes,\n",
    "                        output_nodes,\n",
    "                        dropout_rate)\n",
    "\n",
    "\n",
    "\n",
    "model.fit(X_train, y_train, epochs=100, batch_size=128) \n",
    "print('--- %s seconds ---'%(time.time() - start_time))\n",
    "'''\n",
    "# evaluate model with standardized dataset\n",
    "estimator = KerasClassifier(build_fn=model,\n",
    "                            nb_epoch=100,\n",
    "                            batch_size=200,\n",
    "                            verbose=2)\n",
    "kfold = StratifiedKFold(n_splits=10,\n",
    "                        shuffle=True,\n",
    "                        random_state=seed)\n",
    "results = cross_val_score(estimator,\n",
    "                          X,\n",
    "                          y,\n",
    "                          cv=kfold)\n",
    "'''\n",
    "#print(\"Results of 10-fold Cross-Validation: %.2f%% (%.2f%%)\" % (results.mean() * 100, results.std() * 100))"
   ]
  },
  {
   "cell_type": "code",
   "execution_count": null,
   "metadata": {},
   "outputs": [],
   "source": []
  },
  {
   "cell_type": "code",
   "execution_count": null,
   "metadata": {},
   "outputs": [],
   "source": []
  },
  {
   "cell_type": "code",
   "execution_count": null,
   "metadata": {},
   "outputs": [],
   "source": []
  },
  {
   "cell_type": "code",
   "execution_count": null,
   "metadata": {},
   "outputs": [],
   "source": []
  },
  {
   "cell_type": "code",
   "execution_count": null,
   "metadata": {},
   "outputs": [],
   "source": []
  },
  {
   "cell_type": "code",
   "execution_count": null,
   "metadata": {},
   "outputs": [],
   "source": []
  },
  {
   "cell_type": "code",
   "execution_count": null,
   "metadata": {},
   "outputs": [],
   "source": []
  }
 ],
 "metadata": {
  "kernelspec": {
   "display_name": "Python [conda root]",
   "language": "python",
   "name": "conda-root-py"
  },
  "language_info": {
   "codemirror_mode": {
    "name": "ipython",
    "version": 2
   },
   "file_extension": ".py",
   "mimetype": "text/x-python",
   "name": "python",
   "nbconvert_exporter": "python",
   "pygments_lexer": "ipython2",
   "version": "2.7.14"
  }
 },
 "nbformat": 4,
 "nbformat_minor": 2
}
