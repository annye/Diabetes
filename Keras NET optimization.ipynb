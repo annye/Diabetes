{
 "cells": [
  {
   "cell_type": "markdown",
   "metadata": {},
   "source": [
    "'''\n",
    "\n",
    "Predictive Patient Re-admission Model\n",
    "\n",
    "Date: 17/03/18\n",
    "\n",
    "Author: Annye Braca\n",
    "\n",
    "Email: annyebraca@gmail.com\n",
    "\n",
    "'''"
   ]
  },
  {
   "cell_type": "code",
   "execution_count": 90,
   "metadata": {},
   "outputs": [
    {
     "data": {
      "text/html": [
       "\n",
       "    <div class=\"bk-root\">\n",
       "        <a href=\"https://bokeh.pydata.org\" target=\"_blank\" class=\"bk-logo bk-logo-small bk-logo-notebook\"></a>\n",
       "        <span id=\"a1e9d584-c434-41fe-886f-216d42b6b365\">Loading BokehJS ...</span>\n",
       "    </div>"
      ]
     },
     "metadata": {},
     "output_type": "display_data"
    },
    {
     "data": {
      "application/javascript": [
       "\n",
       "(function(root) {\n",
       "  function now() {\n",
       "    return new Date();\n",
       "  }\n",
       "\n",
       "  var force = true;\n",
       "\n",
       "  if (typeof (root._bokeh_onload_callbacks) === \"undefined\" || force === true) {\n",
       "    root._bokeh_onload_callbacks = [];\n",
       "    root._bokeh_is_loading = undefined;\n",
       "  }\n",
       "\n",
       "  var JS_MIME_TYPE = 'application/javascript';\n",
       "  var HTML_MIME_TYPE = 'text/html';\n",
       "  var EXEC_MIME_TYPE = 'application/vnd.bokehjs_exec.v0+json';\n",
       "  var CLASS_NAME = 'output_bokeh rendered_html';\n",
       "\n",
       "  /**\n",
       "   * Render data to the DOM node\n",
       "   */\n",
       "  function render(props, node) {\n",
       "    var script = document.createElement(\"script\");\n",
       "    node.appendChild(script);\n",
       "  }\n",
       "\n",
       "  /**\n",
       "   * Handle when an output is cleared or removed\n",
       "   */\n",
       "  function handleClearOutput(event, handle) {\n",
       "    var cell = handle.cell;\n",
       "\n",
       "    var id = cell.output_area._bokeh_element_id;\n",
       "    var server_id = cell.output_area._bokeh_server_id;\n",
       "    // Clean up Bokeh references\n",
       "    if (id !== undefined) {\n",
       "      Bokeh.index[id].model.document.clear();\n",
       "      delete Bokeh.index[id];\n",
       "    }\n",
       "\n",
       "    if (server_id !== undefined) {\n",
       "      // Clean up Bokeh references\n",
       "      var cmd = \"from bokeh.io.state import curstate; print(curstate().uuid_to_server['\" + server_id + \"'].get_sessions()[0].document.roots[0]._id)\";\n",
       "      cell.notebook.kernel.execute(cmd, {\n",
       "        iopub: {\n",
       "          output: function(msg) {\n",
       "            var element_id = msg.content.text.trim();\n",
       "            Bokeh.index[element_id].model.document.clear();\n",
       "            delete Bokeh.index[element_id];\n",
       "          }\n",
       "        }\n",
       "      });\n",
       "      // Destroy server and session\n",
       "      var cmd = \"import bokeh.io.notebook as ion; ion.destroy_server('\" + server_id + \"')\";\n",
       "      cell.notebook.kernel.execute(cmd);\n",
       "    }\n",
       "  }\n",
       "\n",
       "  /**\n",
       "   * Handle when a new output is added\n",
       "   */\n",
       "  function handleAddOutput(event, handle) {\n",
       "    var output_area = handle.output_area;\n",
       "    var output = handle.output;\n",
       "\n",
       "    // limit handleAddOutput to display_data with EXEC_MIME_TYPE content only\n",
       "    if ((output.output_type != \"display_data\") || (!output.data.hasOwnProperty(EXEC_MIME_TYPE))) {\n",
       "      return\n",
       "    }\n",
       "\n",
       "    var toinsert = output_area.element.find(\".\" + CLASS_NAME.split(' ')[0]);\n",
       "\n",
       "    if (output.metadata[EXEC_MIME_TYPE][\"id\"] !== undefined) {\n",
       "      toinsert[0].firstChild.textContent = output.data[JS_MIME_TYPE];\n",
       "      // store reference to embed id on output_area\n",
       "      output_area._bokeh_element_id = output.metadata[EXEC_MIME_TYPE][\"id\"];\n",
       "    }\n",
       "    if (output.metadata[EXEC_MIME_TYPE][\"server_id\"] !== undefined) {\n",
       "      var bk_div = document.createElement(\"div\");\n",
       "      bk_div.innerHTML = output.data[HTML_MIME_TYPE];\n",
       "      var script_attrs = bk_div.children[0].attributes;\n",
       "      for (var i = 0; i < script_attrs.length; i++) {\n",
       "        toinsert[0].firstChild.setAttribute(script_attrs[i].name, script_attrs[i].value);\n",
       "      }\n",
       "      // store reference to server id on output_area\n",
       "      output_area._bokeh_server_id = output.metadata[EXEC_MIME_TYPE][\"server_id\"];\n",
       "    }\n",
       "  }\n",
       "\n",
       "  function register_renderer(events, OutputArea) {\n",
       "\n",
       "    function append_mime(data, metadata, element) {\n",
       "      // create a DOM node to render to\n",
       "      var toinsert = this.create_output_subarea(\n",
       "        metadata,\n",
       "        CLASS_NAME,\n",
       "        EXEC_MIME_TYPE\n",
       "      );\n",
       "      this.keyboard_manager.register_events(toinsert);\n",
       "      // Render to node\n",
       "      var props = {data: data, metadata: metadata[EXEC_MIME_TYPE]};\n",
       "      render(props, toinsert[0]);\n",
       "      element.append(toinsert);\n",
       "      return toinsert\n",
       "    }\n",
       "\n",
       "    /* Handle when an output is cleared or removed */\n",
       "    events.on('clear_output.CodeCell', handleClearOutput);\n",
       "    events.on('delete.Cell', handleClearOutput);\n",
       "\n",
       "    /* Handle when a new output is added */\n",
       "    events.on('output_added.OutputArea', handleAddOutput);\n",
       "\n",
       "    /**\n",
       "     * Register the mime type and append_mime function with output_area\n",
       "     */\n",
       "    OutputArea.prototype.register_mime_type(EXEC_MIME_TYPE, append_mime, {\n",
       "      /* Is output safe? */\n",
       "      safe: true,\n",
       "      /* Index of renderer in `output_area.display_order` */\n",
       "      index: 0\n",
       "    });\n",
       "  }\n",
       "\n",
       "  // register the mime type if in Jupyter Notebook environment and previously unregistered\n",
       "  if (root.Jupyter !== undefined) {\n",
       "    var events = require('base/js/events');\n",
       "    var OutputArea = require('notebook/js/outputarea').OutputArea;\n",
       "\n",
       "    if (OutputArea.prototype.mime_types().indexOf(EXEC_MIME_TYPE) == -1) {\n",
       "      register_renderer(events, OutputArea);\n",
       "    }\n",
       "  }\n",
       "\n",
       "  \n",
       "  if (typeof (root._bokeh_timeout) === \"undefined\" || force === true) {\n",
       "    root._bokeh_timeout = Date.now() + 5000;\n",
       "    root._bokeh_failed_load = false;\n",
       "  }\n",
       "\n",
       "  var NB_LOAD_WARNING = {'data': {'text/html':\n",
       "     \"<div style='background-color: #fdd'>\\n\"+\n",
       "     \"<p>\\n\"+\n",
       "     \"BokehJS does not appear to have successfully loaded. If loading BokehJS from CDN, this \\n\"+\n",
       "     \"may be due to a slow or bad network connection. Possible fixes:\\n\"+\n",
       "     \"</p>\\n\"+\n",
       "     \"<ul>\\n\"+\n",
       "     \"<li>re-rerun `output_notebook()` to attempt to load from CDN again, or</li>\\n\"+\n",
       "     \"<li>use INLINE resources instead, as so:</li>\\n\"+\n",
       "     \"</ul>\\n\"+\n",
       "     \"<code>\\n\"+\n",
       "     \"from bokeh.resources import INLINE\\n\"+\n",
       "     \"output_notebook(resources=INLINE)\\n\"+\n",
       "     \"</code>\\n\"+\n",
       "     \"</div>\"}};\n",
       "\n",
       "  function display_loaded() {\n",
       "    var el = document.getElementById(\"a1e9d584-c434-41fe-886f-216d42b6b365\");\n",
       "    if (el != null) {\n",
       "      el.textContent = \"BokehJS is loading...\";\n",
       "    }\n",
       "    if (root.Bokeh !== undefined) {\n",
       "      if (el != null) {\n",
       "        el.textContent = \"BokehJS \" + root.Bokeh.version + \" successfully loaded.\";\n",
       "      }\n",
       "    } else if (Date.now() < root._bokeh_timeout) {\n",
       "      setTimeout(display_loaded, 100)\n",
       "    }\n",
       "  }\n",
       "\n",
       "\n",
       "  function run_callbacks() {\n",
       "    try {\n",
       "      root._bokeh_onload_callbacks.forEach(function(callback) { callback() });\n",
       "    }\n",
       "    finally {\n",
       "      delete root._bokeh_onload_callbacks\n",
       "    }\n",
       "    console.info(\"Bokeh: all callbacks have finished\");\n",
       "  }\n",
       "\n",
       "  function load_libs(js_urls, callback) {\n",
       "    root._bokeh_onload_callbacks.push(callback);\n",
       "    if (root._bokeh_is_loading > 0) {\n",
       "      console.log(\"Bokeh: BokehJS is being loaded, scheduling callback at\", now());\n",
       "      return null;\n",
       "    }\n",
       "    if (js_urls == null || js_urls.length === 0) {\n",
       "      run_callbacks();\n",
       "      return null;\n",
       "    }\n",
       "    console.log(\"Bokeh: BokehJS not loaded, scheduling load and callback at\", now());\n",
       "    root._bokeh_is_loading = js_urls.length;\n",
       "    for (var i = 0; i < js_urls.length; i++) {\n",
       "      var url = js_urls[i];\n",
       "      var s = document.createElement('script');\n",
       "      s.src = url;\n",
       "      s.async = false;\n",
       "      s.onreadystatechange = s.onload = function() {\n",
       "        root._bokeh_is_loading--;\n",
       "        if (root._bokeh_is_loading === 0) {\n",
       "          console.log(\"Bokeh: all BokehJS libraries loaded\");\n",
       "          run_callbacks()\n",
       "        }\n",
       "      };\n",
       "      s.onerror = function() {\n",
       "        console.warn(\"failed to load library \" + url);\n",
       "      };\n",
       "      console.log(\"Bokeh: injecting script tag for BokehJS library: \", url);\n",
       "      document.getElementsByTagName(\"head\")[0].appendChild(s);\n",
       "    }\n",
       "  };var element = document.getElementById(\"a1e9d584-c434-41fe-886f-216d42b6b365\");\n",
       "  if (element == null) {\n",
       "    console.log(\"Bokeh: ERROR: autoload.js configured with elementid 'a1e9d584-c434-41fe-886f-216d42b6b365' but no matching script tag was found. \")\n",
       "    return false;\n",
       "  }\n",
       "\n",
       "  var js_urls = [\"https://cdn.pydata.org/bokeh/release/bokeh-0.12.14.min.js\", \"https://cdn.pydata.org/bokeh/release/bokeh-widgets-0.12.14.min.js\", \"https://cdn.pydata.org/bokeh/release/bokeh-tables-0.12.14.min.js\", \"https://cdn.pydata.org/bokeh/release/bokeh-gl-0.12.14.min.js\"];\n",
       "\n",
       "  var inline_js = [\n",
       "    function(Bokeh) {\n",
       "      Bokeh.set_log_level(\"info\");\n",
       "    },\n",
       "    \n",
       "    function(Bokeh) {\n",
       "      \n",
       "    },\n",
       "    function(Bokeh) {\n",
       "      console.log(\"Bokeh: injecting CSS: https://cdn.pydata.org/bokeh/release/bokeh-0.12.14.min.css\");\n",
       "      Bokeh.embed.inject_css(\"https://cdn.pydata.org/bokeh/release/bokeh-0.12.14.min.css\");\n",
       "      console.log(\"Bokeh: injecting CSS: https://cdn.pydata.org/bokeh/release/bokeh-widgets-0.12.14.min.css\");\n",
       "      Bokeh.embed.inject_css(\"https://cdn.pydata.org/bokeh/release/bokeh-widgets-0.12.14.min.css\");\n",
       "      console.log(\"Bokeh: injecting CSS: https://cdn.pydata.org/bokeh/release/bokeh-tables-0.12.14.min.css\");\n",
       "      Bokeh.embed.inject_css(\"https://cdn.pydata.org/bokeh/release/bokeh-tables-0.12.14.min.css\");\n",
       "    }\n",
       "  ];\n",
       "\n",
       "  function run_inline_js() {\n",
       "    \n",
       "    if ((root.Bokeh !== undefined) || (force === true)) {\n",
       "      for (var i = 0; i < inline_js.length; i++) {\n",
       "        inline_js[i].call(root, root.Bokeh);\n",
       "      }if (force === true) {\n",
       "        display_loaded();\n",
       "      }} else if (Date.now() < root._bokeh_timeout) {\n",
       "      setTimeout(run_inline_js, 100);\n",
       "    } else if (!root._bokeh_failed_load) {\n",
       "      console.log(\"Bokeh: BokehJS failed to load within specified timeout.\");\n",
       "      root._bokeh_failed_load = true;\n",
       "    } else if (force !== true) {\n",
       "      var cell = $(document.getElementById(\"a1e9d584-c434-41fe-886f-216d42b6b365\")).parents('.cell').data().cell;\n",
       "      cell.output_area.append_execute_result(NB_LOAD_WARNING)\n",
       "    }\n",
       "\n",
       "  }\n",
       "\n",
       "  if (root._bokeh_is_loading === 0) {\n",
       "    console.log(\"Bokeh: BokehJS loaded, going straight to plotting\");\n",
       "    run_inline_js();\n",
       "  } else {\n",
       "    load_libs(js_urls, function() {\n",
       "      console.log(\"Bokeh: BokehJS plotting callback run at\", now());\n",
       "      run_inline_js();\n",
       "    });\n",
       "  }\n",
       "}(window));"
      ],
      "application/vnd.bokehjs_load.v0+json": "\n(function(root) {\n  function now() {\n    return new Date();\n  }\n\n  var force = true;\n\n  if (typeof (root._bokeh_onload_callbacks) === \"undefined\" || force === true) {\n    root._bokeh_onload_callbacks = [];\n    root._bokeh_is_loading = undefined;\n  }\n\n  \n\n  \n  if (typeof (root._bokeh_timeout) === \"undefined\" || force === true) {\n    root._bokeh_timeout = Date.now() + 5000;\n    root._bokeh_failed_load = false;\n  }\n\n  var NB_LOAD_WARNING = {'data': {'text/html':\n     \"<div style='background-color: #fdd'>\\n\"+\n     \"<p>\\n\"+\n     \"BokehJS does not appear to have successfully loaded. If loading BokehJS from CDN, this \\n\"+\n     \"may be due to a slow or bad network connection. Possible fixes:\\n\"+\n     \"</p>\\n\"+\n     \"<ul>\\n\"+\n     \"<li>re-rerun `output_notebook()` to attempt to load from CDN again, or</li>\\n\"+\n     \"<li>use INLINE resources instead, as so:</li>\\n\"+\n     \"</ul>\\n\"+\n     \"<code>\\n\"+\n     \"from bokeh.resources import INLINE\\n\"+\n     \"output_notebook(resources=INLINE)\\n\"+\n     \"</code>\\n\"+\n     \"</div>\"}};\n\n  function display_loaded() {\n    var el = document.getElementById(\"a1e9d584-c434-41fe-886f-216d42b6b365\");\n    if (el != null) {\n      el.textContent = \"BokehJS is loading...\";\n    }\n    if (root.Bokeh !== undefined) {\n      if (el != null) {\n        el.textContent = \"BokehJS \" + root.Bokeh.version + \" successfully loaded.\";\n      }\n    } else if (Date.now() < root._bokeh_timeout) {\n      setTimeout(display_loaded, 100)\n    }\n  }\n\n\n  function run_callbacks() {\n    try {\n      root._bokeh_onload_callbacks.forEach(function(callback) { callback() });\n    }\n    finally {\n      delete root._bokeh_onload_callbacks\n    }\n    console.info(\"Bokeh: all callbacks have finished\");\n  }\n\n  function load_libs(js_urls, callback) {\n    root._bokeh_onload_callbacks.push(callback);\n    if (root._bokeh_is_loading > 0) {\n      console.log(\"Bokeh: BokehJS is being loaded, scheduling callback at\", now());\n      return null;\n    }\n    if (js_urls == null || js_urls.length === 0) {\n      run_callbacks();\n      return null;\n    }\n    console.log(\"Bokeh: BokehJS not loaded, scheduling load and callback at\", now());\n    root._bokeh_is_loading = js_urls.length;\n    for (var i = 0; i < js_urls.length; i++) {\n      var url = js_urls[i];\n      var s = document.createElement('script');\n      s.src = url;\n      s.async = false;\n      s.onreadystatechange = s.onload = function() {\n        root._bokeh_is_loading--;\n        if (root._bokeh_is_loading === 0) {\n          console.log(\"Bokeh: all BokehJS libraries loaded\");\n          run_callbacks()\n        }\n      };\n      s.onerror = function() {\n        console.warn(\"failed to load library \" + url);\n      };\n      console.log(\"Bokeh: injecting script tag for BokehJS library: \", url);\n      document.getElementsByTagName(\"head\")[0].appendChild(s);\n    }\n  };var element = document.getElementById(\"a1e9d584-c434-41fe-886f-216d42b6b365\");\n  if (element == null) {\n    console.log(\"Bokeh: ERROR: autoload.js configured with elementid 'a1e9d584-c434-41fe-886f-216d42b6b365' but no matching script tag was found. \")\n    return false;\n  }\n\n  var js_urls = [\"https://cdn.pydata.org/bokeh/release/bokeh-0.12.14.min.js\", \"https://cdn.pydata.org/bokeh/release/bokeh-widgets-0.12.14.min.js\", \"https://cdn.pydata.org/bokeh/release/bokeh-tables-0.12.14.min.js\", \"https://cdn.pydata.org/bokeh/release/bokeh-gl-0.12.14.min.js\"];\n\n  var inline_js = [\n    function(Bokeh) {\n      Bokeh.set_log_level(\"info\");\n    },\n    \n    function(Bokeh) {\n      \n    },\n    function(Bokeh) {\n      console.log(\"Bokeh: injecting CSS: https://cdn.pydata.org/bokeh/release/bokeh-0.12.14.min.css\");\n      Bokeh.embed.inject_css(\"https://cdn.pydata.org/bokeh/release/bokeh-0.12.14.min.css\");\n      console.log(\"Bokeh: injecting CSS: https://cdn.pydata.org/bokeh/release/bokeh-widgets-0.12.14.min.css\");\n      Bokeh.embed.inject_css(\"https://cdn.pydata.org/bokeh/release/bokeh-widgets-0.12.14.min.css\");\n      console.log(\"Bokeh: injecting CSS: https://cdn.pydata.org/bokeh/release/bokeh-tables-0.12.14.min.css\");\n      Bokeh.embed.inject_css(\"https://cdn.pydata.org/bokeh/release/bokeh-tables-0.12.14.min.css\");\n    }\n  ];\n\n  function run_inline_js() {\n    \n    if ((root.Bokeh !== undefined) || (force === true)) {\n      for (var i = 0; i < inline_js.length; i++) {\n        inline_js[i].call(root, root.Bokeh);\n      }if (force === true) {\n        display_loaded();\n      }} else if (Date.now() < root._bokeh_timeout) {\n      setTimeout(run_inline_js, 100);\n    } else if (!root._bokeh_failed_load) {\n      console.log(\"Bokeh: BokehJS failed to load within specified timeout.\");\n      root._bokeh_failed_load = true;\n    } else if (force !== true) {\n      var cell = $(document.getElementById(\"a1e9d584-c434-41fe-886f-216d42b6b365\")).parents('.cell').data().cell;\n      cell.output_area.append_execute_result(NB_LOAD_WARNING)\n    }\n\n  }\n\n  if (root._bokeh_is_loading === 0) {\n    console.log(\"Bokeh: BokehJS loaded, going straight to plotting\");\n    run_inline_js();\n  } else {\n    load_libs(js_urls, function() {\n      console.log(\"Bokeh: BokehJS plotting callback run at\", now());\n      run_inline_js();\n    });\n  }\n}(window));"
     },
     "metadata": {},
     "output_type": "display_data"
    }
   ],
   "source": [
    "\n",
    "output_notebook()"
   ]
  },
  {
   "cell_type": "code",
   "execution_count": 160,
   "metadata": {},
   "outputs": [
    {
     "name": "stdout",
     "output_type": "stream",
     "text": [
      "Populating the interactive namespace from numpy and matplotlib\n"
     ]
    },
    {
     "name": "stderr",
     "output_type": "stream",
     "text": [
      "C:\\Users\\Creative\\Anaconda2\\envs\\tensorflow\\lib\\site-packages\\IPython\\core\\magics\\pylab.py:160: UserWarning: pylab import has clobbered these variables: ['figure', 'show']\n",
      "`%matplotlib` prevents importing * from pylab and numpy\n",
      "  \"\\n`%matplotlib` prevents importing * from pylab and numpy\"\n"
     ]
    }
   ],
   "source": [
    "# Importing Libraries\n",
    "from __future__ import absolute_import, division, print_function\n",
    "import pandas as pd\n",
    "import numpy as np\n",
    "import matplotlib.pyplot as plt\n",
    "%matplotlib inline\n",
    "%pylab inline\n",
    "from scipy.stats import spearmanr\n",
    "from pylab import rcParams\n",
    "import seaborn as sns\n",
    "from sklearn.preprocessing import scale \n",
    "from sklearn.linear_model import LogisticRegression\n",
    "from sklearn.cross_validation import train_test_split\n",
    "from sklearn import metrics\n",
    "from sklearn import preprocessing\n",
    "from sklearn import feature_extraction\n",
    "from sklearn.grid_search import GridSearchCV\n",
    "from sklearn.metrics import classification_report, confusion_matrix\n",
    "from sklearn.linear_model import LinearRegression\n",
    "from sklearn import linear_model\n",
    "from sklearn import model_selection\n",
    "#import statsmodels.api as sm\n",
    "import  sys\n",
    "from keras.optimizers import SGD\n",
    "from keras.models import Sequential\n",
    "from keras.layers import Dense\n",
    "from keras.layers import Dropout\n",
    "from keras.wrappers.scikit_learn import KerasClassifier, KerasRegressor\n",
    "from sklearn.model_selection import StratifiedKFold\n",
    "from sklearn.model_selection import cross_val_score\n",
    "\n",
    "from bokeh.io import show, output_notebook\n",
    "from bokeh.models import ColumnDataSource\n",
    "from bokeh.palettes import Spectral6\n",
    "from bokeh.plotting import figure\n",
    "from bokeh.transform import factor_cmap\n",
    "\n",
    "from sklearn.metrics import mean_squared_error, r2_score\n",
    "from sklearn import  linear_model\n",
    "from sklearn import svm\n",
    "from sklearn.datasets import samples_generator\n",
    "from sklearn.feature_selection import SelectKBest, f_regression\n",
    "from sklearn.pipeline import make_pipeline\n",
    "from sklearn.model_selection import train_test_split\n",
    "from sklearn.metrics import classification_report\n",
    "import time\n",
    "import keras\n",
    "from keras.layers import Flatten, Conv1D, Dense, GlobalAvgPool1D, GlobalMaxPool1D, Dropout, MaxPool1D, BatchNormalization"
   ]
  },
  {
   "cell_type": "code",
   "execution_count": 163,
   "metadata": {},
   "outputs": [],
   "source": [
    "def one_hot_dataframe(data, cols, replace=False):\n",
    "    \"\"\"Create one-hot encodings.\"\"\"\n",
    "    vec = feature_extraction.DictVectorizer()\n",
    "    mkdict = lambda row: dict((col, row[col]) for col in cols)\n",
    "    vecData = pd.DataFrame(vec.fit_transform(data[cols].apply(mkdict, axis=1)).toarray())\n",
    "    vecData.columns = vec.get_feature_names()\n",
    "    vecData.index = data.index\n",
    "    if replace:\n",
    "        data = data.drop(cols, axis=1)\n",
    "        data = data.join(vecData)\n",
    "    return (data, vecData)"
   ]
  },
  {
   "cell_type": "code",
   "execution_count": 171,
   "metadata": {},
   "outputs": [
    {
     "name": "stdout",
     "output_type": "stream",
     "text": [
      "Diabetes patients: 67970\n",
      "Readmitted: No: 35172\n",
      "Readmitted: <30: 7888\n",
      "Readmitted: >30: 24910\n"
     ]
    }
   ],
   "source": [
    "# Read in data\n",
    "data = pd.read_csv('../static/diabetic_data.csv')\n",
    "discharge = pd.ExcelFile('../static/discharge.xlsx')\n",
    "discharge = discharge.parse('Data')\n",
    "admission = pd.ExcelFile('../static/admission.xlsx')\n",
    "admission = admission.parse('Data')\n",
    "admission_type = pd.ExcelFile('../static/admission_type_ID.xlsx')\n",
    "admission_type = admission_type.parse('Data')\n",
    "\n",
    "# Map discharge and admission id descriptions\n",
    "discharge_map = dict(zip(discharge['discharge_disposition_id'], discharge['description']))\n",
    "data['discharge_description'] = data['discharge_disposition_id'].map(discharge_map)\n",
    "admission_map = dict(zip(admission['admission_source_id'], admission['description']))\n",
    "data['admission_description'] = data['admission_source_id'].map(admission_map)\n",
    "# bring in admission type id\n",
    "admission_type_map = dict(zip(admission_type['admission_type_id'], admission['description']))\n",
    "data['admission_type_description'] = data['admission_type_id'].map(admission_type_map)\n",
    "# Drop original ids as these are not dropped in one-hot_encoding function\n",
    "data.drop(['discharge_disposition_id', 'admission_source_id', 'admission_type_id'], axis=1, inplace=True)\n",
    "\n",
    "# Mapping Age\n",
    "age_ranges = list(set(data['age']))#\n",
    "age_ordinal = [1, 8, 7, 6, 0, 9, 4, 2, 5, 3]\n",
    "age_map = dict(zip(age_ranges, age_ordinal))\n",
    "data['age'] = data['age'].map(age_map)\n",
    "\n",
    "\n",
    "data.replace('?' , np.nan, inplace=True)\n",
    "data.drop(['weight', 'medical_specialty', 'payer_code', 'diag_2', 'diag_3',  'patient_nbr', 'encounter_id'], axis=1, inplace=True)\n",
    "\n",
    "data = data[~(data['diag_1'].str.startswith('V') | (data['diag_1'].str.startswith('E')))]\n",
    "\n",
    "\n",
    "data.dropna(inplace=True)\n",
    "\n",
    "data, med = one_hot_dataframe(data, [\"admission_description\",\n",
    "                                     \"discharge_description\",\n",
    "                                     \"admission_type_description\",\n",
    "                                     \"race\",\n",
    "                                     \"gender\",\n",
    "                                     \"metformin\",\n",
    "                                     \"repaglinide\",\n",
    "                                     \"nateglinide\",\n",
    "                                     \"chlorpropamide\",\n",
    "                                     \"glimepiride\",\n",
    "                                     \"acetohexamide\",\n",
    "                                     \"glipizide\",\n",
    "                                     \"glyburide\",\n",
    "                                     \"tolbutamide\",\n",
    "                                     \"pioglitazone\",\n",
    "                                     \"rosiglitazone\",\n",
    "                                     \"acarbose\",\n",
    "                                     \"miglitol\",\n",
    "                                     \"troglitazone\",\n",
    "                                     \"tolazamide\",\n",
    "                                     \"examide\",\n",
    "                                     \"citoglipton\",\n",
    "                                     \"insulin\",\n",
    "                                     \"glyburide-metformin\",\n",
    "                                     \"glipizide-metformin\",\n",
    "                                     \"glimepiride-pioglitazone\",\n",
    "                                     \"metformin-rosiglitazone\",\n",
    "                                     \"metformin-pioglitazone\",\n",
    "                                     'A1Cresult',\n",
    "                                     'max_glu_serum',\n",
    "                                     'change',\n",
    "                                     'diabetesMed'], replace=True)\n",
    "\n",
    "\n",
    "#set(data['readmitted'])\n",
    "data = data[data['diabetesMed=Yes'] == 1]\n",
    "print ('Diabetes patients: {}'.format(len(data)))\n",
    "print ('Readmitted: No: {}'.format(len(data[data['readmitted'] == 'NO'])))\n",
    "print ('Readmitted: <30: {}'.format(len(data[data['readmitted'] == '<30'])))\n",
    "print ('Readmitted: >30: {}'.format(len(data[data['readmitted'] == '>30'])))"
   ]
  },
  {
   "cell_type": "code",
   "execution_count": 172,
   "metadata": {},
   "outputs": [
    {
     "name": "stderr",
     "output_type": "stream",
     "text": [
      "C:\\Users\\Creative\\Anaconda2\\envs\\tensorflow\\lib\\site-packages\\ipykernel\\__main__.py:2: DeprecationWarning: \n",
      ".ix is deprecated. Please use\n",
      ".loc for label based indexing or\n",
      ".iloc for positional indexing\n",
      "\n",
      "See the documentation here:\n",
      "http://pandas.pydata.org/pandas-docs/stable/indexing.html#ix-indexer-is-deprecated\n",
      "  from ipykernel import kernelapp as app\n"
     ]
    },
    {
     "data": {
      "text/html": [
       "<div>\n",
       "<style scoped>\n",
       "    .dataframe tbody tr th:only-of-type {\n",
       "        vertical-align: middle;\n",
       "    }\n",
       "\n",
       "    .dataframe tbody tr th {\n",
       "        vertical-align: top;\n",
       "    }\n",
       "\n",
       "    .dataframe thead th {\n",
       "        text-align: right;\n",
       "    }\n",
       "</style>\n",
       "<table border=\"1\" class=\"dataframe\">\n",
       "  <thead>\n",
       "    <tr style=\"text-align: right;\">\n",
       "      <th></th>\n",
       "      <th>age</th>\n",
       "      <th>time_in_hospital</th>\n",
       "      <th>num_lab_procedures</th>\n",
       "      <th>num_procedures</th>\n",
       "      <th>num_medications</th>\n",
       "      <th>number_outpatient</th>\n",
       "      <th>number_emergency</th>\n",
       "      <th>number_inpatient</th>\n",
       "      <th>diag_1</th>\n",
       "      <th>number_diagnoses</th>\n",
       "      <th>...</th>\n",
       "      <th>rosiglitazone=Down</th>\n",
       "      <th>rosiglitazone=No</th>\n",
       "      <th>rosiglitazone=Steady</th>\n",
       "      <th>rosiglitazone=Up</th>\n",
       "      <th>tolazamide=No</th>\n",
       "      <th>tolazamide=Steady</th>\n",
       "      <th>tolbutamide=No</th>\n",
       "      <th>tolbutamide=Steady</th>\n",
       "      <th>troglitazone=No</th>\n",
       "      <th>troglitazone=Steady</th>\n",
       "    </tr>\n",
       "  </thead>\n",
       "  <tbody>\n",
       "  </tbody>\n",
       "</table>\n",
       "<p>0 rows × 147 columns</p>\n",
       "</div>"
      ],
      "text/plain": [
       "Empty DataFrame\n",
       "Columns: [age, time_in_hospital, num_lab_procedures, num_procedures, num_medications, number_outpatient, number_emergency, number_inpatient, diag_1, number_diagnoses, readmitted, A1Cresult=>7, A1Cresult=>8, A1Cresult=None, A1Cresult=Norm, acarbose=Down, acarbose=No, acarbose=Steady, acarbose=Up, acetohexamide=No, acetohexamide=Steady, admission_description= Court/Law Enforcement, admission_description= Physician Referral, admission_description= Sick Baby, admission_description=Clinic Referral, admission_description=Emergency Room, admission_description=Extramural Birth, admission_description=HMO Referral, admission_description=Normal Delivery, admission_description=Not Available, admission_description=Not Mapped, admission_description=Transfer from Ambulatory Surgery Center, admission_description=Transfer from a Skilled Nursing Facility (SNF), admission_description=Transfer from a hospital, admission_description=Transfer from another health care facility, admission_description=Transfer from critial access hospital, admission_description=Transfer from hospital inpt/same fac reslt in a sep claim, admission_type_description= Court/Law Enforcement, admission_type_description= Physician Referral, admission_type_description=Clinic Referral, admission_type_description=Emergency Room, admission_type_description=HMO Referral, admission_type_description=Transfer from a Skilled Nursing Facility (SNF), admission_type_description=Transfer from a hospital, admission_type_description=Transfer from another health care facility, change=Ch, change=No, chlorpropamide=Down, chlorpropamide=No, chlorpropamide=Steady, chlorpropamide=Up, citoglipton=No, diabetesMed=No, diabetesMed=Yes, discharge_description=Admitted as an inpatient to this hospital, discharge_description=Discharged to home, discharge_description=Discharged/transferred to ICF, discharge_description=Discharged/transferred to SNF, discharge_description=Discharged/transferred to a federal health care facility., discharge_description=Discharged/transferred to a long term care hospital., discharge_description=Discharged/transferred to a nursing facility certified under Medicaid but not certified under Medicare., discharge_description=Discharged/transferred to another rehab fac including rehab units of a hospital ., discharge_description=Discharged/transferred to another short term hospital, discharge_description=Discharged/transferred to another type of inpatient care institution, discharge_description=Discharged/transferred to home under care of Home IV provider, discharge_description=Discharged/transferred to home with home health service, discharge_description=Discharged/transferred within this institution to Medicare approved swing bed, discharge_description=Discharged/transferred/referred to a psychiatric hospital of psychiatric distinct part unit of a hospital, discharge_description=Expired, discharge_description=Expired at home. Medicaid only, hospice., discharge_description=Expired in a medical facility. Medicaid only, hospice., discharge_description=Hospice / home, discharge_description=Hospice / medical facility, discharge_description=Left AMA, discharge_description=Neonate discharged to another hospital for neonatal aftercare, discharge_description=Not Mapped, discharge_description=Still patient or expected to return for outpatient services, examide=No, gender=Female, gender=Male, gender=Unknown/Invalid, glimepiride-pioglitazone=No, glimepiride-pioglitazone=Steady, glimepiride=Down, glimepiride=No, glimepiride=Steady, glimepiride=Up, glipizide-metformin=No, glipizide-metformin=Steady, glipizide=Down, glipizide=No, glipizide=Steady, glipizide=Up, glyburide-metformin=Down, glyburide-metformin=No, glyburide-metformin=Steady, glyburide-metformin=Up, glyburide=Down, glyburide=No, glyburide=Steady, ...]\n",
       "Index: []\n",
       "\n",
       "[0 rows x 147 columns]"
      ]
     },
     "execution_count": 172,
     "metadata": {},
     "output_type": "execute_result"
    }
   ],
   "source": [
    "inds = pd.isnull(data).any(1).nonzero()[0]\n",
    "data.ix[inds]"
   ]
  },
  {
   "cell_type": "code",
   "execution_count": 91,
   "metadata": {},
   "outputs": [
    {
     "data": {
      "text/html": [
       "\n",
       "<div class=\"bk-root\">\n",
       "    <div class=\"bk-plotdiv\" id=\"c81c5aa3-2f1f-4552-82bf-0e6d21d4bfd2\"></div>\n",
       "</div>"
      ]
     },
     "metadata": {},
     "output_type": "display_data"
    },
    {
     "data": {
      "application/javascript": [
       "(function(root) {\n",
       "  function embed_document(root) {\n",
       "    \n",
       "  var docs_json = {\"0138ead2-8e68-469c-864d-d1b8e5499d87\":{\"roots\":{\"references\":[{\"attributes\":{},\"id\":\"e9a55b01-e5ed-4fd3-8ae4-65a96aad9bce\",\"type\":\"CategoricalScale\"},{\"attributes\":{\"callback\":null,\"column_names\":[\"patients\",\"counts\"],\"data\":{\"counts\":[10,7,2],\"patients\":[\"No-Readmitted\",\"Readmited <30\",\"Readmited >30\"]}},\"id\":\"f3af1a4c-8376-41b0-9a15-bb1d1cd55325\",\"type\":\"ColumnDataSource\"},{\"attributes\":{},\"id\":\"9e02646b-2786-471e-937d-bd1149160417\",\"type\":\"WheelZoomTool\"},{\"attributes\":{\"factors\":[\"No-Readmitted\",\"Readmited <30\",\"Readmited >30\"],\"palette\":[\"#3288bd\",\"#99d594\",\"#e6f598\",\"#fee08b\",\"#fc8d59\",\"#d53e4f\"]},\"id\":\"29323d52-4769-4a0c-8a4a-b3f3204700c7\",\"type\":\"CategoricalColorMapper\"},{\"attributes\":{\"callback\":null,\"end\":9,\"start\":0},\"id\":\"fa6da9d2-6791-4b9b-b88a-3b8abb60e688\",\"type\":\"DataRange1d\"},{\"attributes\":{},\"id\":\"b11b6058-5ed7-4a31-937e-6091a5040d19\",\"type\":\"PanTool\"},{\"attributes\":{\"source\":{\"id\":\"f3af1a4c-8376-41b0-9a15-bb1d1cd55325\",\"type\":\"ColumnDataSource\"}},\"id\":\"2c2747b5-8649-4244-8f02-559818841daf\",\"type\":\"CDSView\"},{\"attributes\":{},\"id\":\"e114e81e-2649-44fa-959a-a452b8fcc291\",\"type\":\"CategoricalTickFormatter\"},{\"attributes\":{},\"id\":\"7a9884c6-f71c-4933-9573-5c924013a489\",\"type\":\"CategoricalTicker\"},{\"attributes\":{\"formatter\":{\"id\":\"e114e81e-2649-44fa-959a-a452b8fcc291\",\"type\":\"CategoricalTickFormatter\"},\"plot\":{\"id\":\"1bc87d17-7fcc-41f2-b279-11712a5f2cab\",\"subtype\":\"Figure\",\"type\":\"Plot\"},\"ticker\":{\"id\":\"7a9884c6-f71c-4933-9573-5c924013a489\",\"type\":\"CategoricalTicker\"}},\"id\":\"a2faa410-8c2d-4a06-81f3-8181048f8e5e\",\"type\":\"CategoricalAxis\"},{\"attributes\":{\"items\":[{\"id\":\"814621b8-fab5-4657-a6eb-77732a0a2eac\",\"type\":\"LegendItem\"}],\"location\":\"top_center\",\"orientation\":\"horizontal\",\"plot\":{\"id\":\"1bc87d17-7fcc-41f2-b279-11712a5f2cab\",\"subtype\":\"Figure\",\"type\":\"Plot\"}},\"id\":\"5a1d78bb-cb99-4560-81a1-ee5daec59405\",\"type\":\"Legend\"},{\"attributes\":{\"data_source\":{\"id\":\"f3af1a4c-8376-41b0-9a15-bb1d1cd55325\",\"type\":\"ColumnDataSource\"},\"glyph\":{\"id\":\"d638437c-6e04-4705-9bd2-92e7915ec026\",\"type\":\"VBar\"},\"hover_glyph\":null,\"muted_glyph\":null,\"nonselection_glyph\":{\"id\":\"04443dd9-6b68-48f8-b4dc-dec92d6a3481\",\"type\":\"VBar\"},\"selection_glyph\":null,\"view\":{\"id\":\"2c2747b5-8649-4244-8f02-559818841daf\",\"type\":\"CDSView\"}},\"id\":\"013b1de7-d52e-4c32-a59c-98397658f9ea\",\"type\":\"GlyphRenderer\"},{\"attributes\":{},\"id\":\"a89df4a2-b537-4b75-adce-b87bda91323f\",\"type\":\"LinearScale\"},{\"attributes\":{\"formatter\":{\"id\":\"5908f3f2-4071-4407-9052-778182a3d46c\",\"type\":\"BasicTickFormatter\"},\"plot\":{\"id\":\"1bc87d17-7fcc-41f2-b279-11712a5f2cab\",\"subtype\":\"Figure\",\"type\":\"Plot\"},\"ticker\":{\"id\":\"c249ec82-8dc9-4458-a84b-0b39bf0c6697\",\"type\":\"BasicTicker\"}},\"id\":\"25e83008-12c8-4627-b408-40fccb076952\",\"type\":\"LinearAxis\"},{\"attributes\":{\"label\":{\"field\":\"patients\"},\"renderers\":[{\"id\":\"013b1de7-d52e-4c32-a59c-98397658f9ea\",\"type\":\"GlyphRenderer\"}]},\"id\":\"814621b8-fab5-4657-a6eb-77732a0a2eac\",\"type\":\"LegendItem\"},{\"attributes\":{\"bottom_units\":\"screen\",\"fill_alpha\":{\"value\":0.5},\"fill_color\":{\"value\":\"lightgrey\"},\"left_units\":\"screen\",\"level\":\"overlay\",\"line_alpha\":{\"value\":1.0},\"line_color\":{\"value\":\"black\"},\"line_dash\":[4,4],\"line_width\":{\"value\":2},\"plot\":null,\"render_mode\":\"css\",\"right_units\":\"screen\",\"top_units\":\"screen\"},\"id\":\"75c79ec7-0a18-40ee-b09a-a05d582af30e\",\"type\":\"BoxAnnotation\"},{\"attributes\":{},\"id\":\"064878eb-ec61-412f-be23-b2463b3efded\",\"type\":\"HelpTool\"},{\"attributes\":{\"fill_alpha\":{\"value\":0.1},\"fill_color\":{\"value\":\"#1f77b4\"},\"line_alpha\":{\"value\":0.1},\"line_color\":{\"value\":\"#1f77b4\"},\"top\":{\"field\":\"counts\"},\"width\":{\"value\":0.9},\"x\":{\"field\":\"patients\"}},\"id\":\"04443dd9-6b68-48f8-b4dc-dec92d6a3481\",\"type\":\"VBar\"},{\"attributes\":{\"callback\":null,\"factors\":[\"No-Readmitted\",\"Readmited <30\",\"Readmited >30\"]},\"id\":\"37b68fdb-f3db-4c0c-b605-a7fe843b5c38\",\"type\":\"FactorRange\"},{\"attributes\":{},\"id\":\"5908f3f2-4071-4407-9052-778182a3d46c\",\"type\":\"BasicTickFormatter\"},{\"attributes\":{},\"id\":\"541da0a2-a289-4fb6-945f-55ee6057c457\",\"type\":\"SaveTool\"},{\"attributes\":{\"overlay\":{\"id\":\"75c79ec7-0a18-40ee-b09a-a05d582af30e\",\"type\":\"BoxAnnotation\"}},\"id\":\"cee02cc0-9c60-4822-9b02-7db3878dab62\",\"type\":\"BoxZoomTool\"},{\"attributes\":{},\"id\":\"c249ec82-8dc9-4458-a84b-0b39bf0c6697\",\"type\":\"BasicTicker\"},{\"attributes\":{},\"id\":\"35008ece-d576-4ea2-9453-98e3d5b07933\",\"type\":\"ResetTool\"},{\"attributes\":{\"grid_line_color\":{\"value\":null},\"plot\":{\"id\":\"1bc87d17-7fcc-41f2-b279-11712a5f2cab\",\"subtype\":\"Figure\",\"type\":\"Plot\"},\"ticker\":{\"id\":\"7a9884c6-f71c-4933-9573-5c924013a489\",\"type\":\"CategoricalTicker\"}},\"id\":\"0908b33f-7f11-4ce4-89ae-83730710e1f1\",\"type\":\"Grid\"},{\"attributes\":{\"dimension\":1,\"plot\":{\"id\":\"1bc87d17-7fcc-41f2-b279-11712a5f2cab\",\"subtype\":\"Figure\",\"type\":\"Plot\"},\"ticker\":{\"id\":\"c249ec82-8dc9-4458-a84b-0b39bf0c6697\",\"type\":\"BasicTicker\"}},\"id\":\"f540f89e-18c3-4b60-955d-46a8bd47ac3e\",\"type\":\"Grid\"},{\"attributes\":{\"active_drag\":\"auto\",\"active_inspect\":\"auto\",\"active_scroll\":\"auto\",\"active_tap\":\"auto\",\"tools\":[{\"id\":\"b11b6058-5ed7-4a31-937e-6091a5040d19\",\"type\":\"PanTool\"},{\"id\":\"9e02646b-2786-471e-937d-bd1149160417\",\"type\":\"WheelZoomTool\"},{\"id\":\"cee02cc0-9c60-4822-9b02-7db3878dab62\",\"type\":\"BoxZoomTool\"},{\"id\":\"541da0a2-a289-4fb6-945f-55ee6057c457\",\"type\":\"SaveTool\"},{\"id\":\"35008ece-d576-4ea2-9453-98e3d5b07933\",\"type\":\"ResetTool\"},{\"id\":\"064878eb-ec61-412f-be23-b2463b3efded\",\"type\":\"HelpTool\"}]},\"id\":\"f9b0b16a-e424-4a24-ba22-989fbad00367\",\"type\":\"Toolbar\"},{\"attributes\":{\"fill_color\":{\"field\":\"patients\",\"transform\":{\"id\":\"29323d52-4769-4a0c-8a4a-b3f3204700c7\",\"type\":\"CategoricalColorMapper\"}},\"line_color\":{\"value\":\"white\"},\"top\":{\"field\":\"counts\"},\"width\":{\"value\":0.9},\"x\":{\"field\":\"patients\"}},\"id\":\"d638437c-6e04-4705-9bd2-92e7915ec026\",\"type\":\"VBar\"},{\"attributes\":{\"plot\":null,\"text\":\"Patients Counts\"},\"id\":\"34ec0cc1-085f-4c1a-abe0-f3b0c628ef85\",\"type\":\"Title\"},{\"attributes\":{\"below\":[{\"id\":\"a2faa410-8c2d-4a06-81f3-8181048f8e5e\",\"type\":\"CategoricalAxis\"}],\"left\":[{\"id\":\"25e83008-12c8-4627-b408-40fccb076952\",\"type\":\"LinearAxis\"}],\"plot_height\":350,\"renderers\":[{\"id\":\"a2faa410-8c2d-4a06-81f3-8181048f8e5e\",\"type\":\"CategoricalAxis\"},{\"id\":\"0908b33f-7f11-4ce4-89ae-83730710e1f1\",\"type\":\"Grid\"},{\"id\":\"25e83008-12c8-4627-b408-40fccb076952\",\"type\":\"LinearAxis\"},{\"id\":\"f540f89e-18c3-4b60-955d-46a8bd47ac3e\",\"type\":\"Grid\"},{\"id\":\"75c79ec7-0a18-40ee-b09a-a05d582af30e\",\"type\":\"BoxAnnotation\"},{\"id\":\"5a1d78bb-cb99-4560-81a1-ee5daec59405\",\"type\":\"Legend\"},{\"id\":\"013b1de7-d52e-4c32-a59c-98397658f9ea\",\"type\":\"GlyphRenderer\"}],\"title\":{\"id\":\"34ec0cc1-085f-4c1a-abe0-f3b0c628ef85\",\"type\":\"Title\"},\"toolbar\":{\"id\":\"f9b0b16a-e424-4a24-ba22-989fbad00367\",\"type\":\"Toolbar\"},\"toolbar_location\":null,\"x_range\":{\"id\":\"37b68fdb-f3db-4c0c-b605-a7fe843b5c38\",\"type\":\"FactorRange\"},\"x_scale\":{\"id\":\"e9a55b01-e5ed-4fd3-8ae4-65a96aad9bce\",\"type\":\"CategoricalScale\"},\"y_range\":{\"id\":\"fa6da9d2-6791-4b9b-b88a-3b8abb60e688\",\"type\":\"DataRange1d\"},\"y_scale\":{\"id\":\"a89df4a2-b537-4b75-adce-b87bda91323f\",\"type\":\"LinearScale\"}},\"id\":\"1bc87d17-7fcc-41f2-b279-11712a5f2cab\",\"subtype\":\"Figure\",\"type\":\"Plot\"}],\"root_ids\":[\"1bc87d17-7fcc-41f2-b279-11712a5f2cab\"]},\"title\":\"Bokeh Application\",\"version\":\"0.12.14\"}};\n",
       "  var render_items = [{\"docid\":\"0138ead2-8e68-469c-864d-d1b8e5499d87\",\"elementid\":\"c81c5aa3-2f1f-4552-82bf-0e6d21d4bfd2\",\"modelid\":\"1bc87d17-7fcc-41f2-b279-11712a5f2cab\"}];\n",
       "  root.Bokeh.embed.embed_items_notebook(docs_json, render_items);\n",
       "\n",
       "  }\n",
       "  if (root.Bokeh !== undefined) {\n",
       "    embed_document(root);\n",
       "  } else {\n",
       "    var attempts = 0;\n",
       "    var timer = setInterval(function(root) {\n",
       "      if (root.Bokeh !== undefined) {\n",
       "        embed_document(root);\n",
       "        clearInterval(timer);\n",
       "      }\n",
       "      attempts++;\n",
       "      if (attempts > 100) {\n",
       "        console.log(\"Bokeh: ERROR: Unable to run BokehJS code because BokehJS library is missing\")\n",
       "        clearInterval(timer);\n",
       "      }\n",
       "    }, 10, root)\n",
       "  }\n",
       "})(window);"
      ],
      "application/vnd.bokehjs_exec.v0+json": ""
     },
     "metadata": {
      "application/vnd.bokehjs_exec.v0+json": {
       "id": "1bc87d17-7fcc-41f2-b279-11712a5f2cab"
      }
     },
     "output_type": "display_data"
    }
   ],
   "source": [
    "#output_file(\"bar_colormapped.html\")\n",
    "\n",
    "patients = ['No-Readmitted','Readmited <30','Readmited >30']\n",
    "counts = [10,7,2]\n",
    "source = ColumnDataSource(data=dict(patients=patients, counts=counts))\n",
    "\n",
    "p = figure(x_range=patients, plot_height=350, toolbar_location=None, title=\"Patients Counts\")\n",
    "p.vbar(x='patients', top='counts', width=0.9, source=source, legend=\"patients\",\n",
    "       line_color='white', fill_color=factor_cmap('patients', palette=Spectral6, factors=patients))\n",
    "\n",
    "p.xgrid.grid_line_color = None\n",
    "p.y_range.start = 0\n",
    "p.y_range.end = 9\n",
    "p.legend.orientation = \"horizontal\"\n",
    "p.legend.location = \"top_center\"\n",
    "\n",
    "show(p)"
   ]
  },
  {
   "cell_type": "markdown",
   "metadata": {},
   "source": [
    "Binary Mapping"
   ]
  },
  {
   "cell_type": "code",
   "execution_count": 173,
   "metadata": {},
   "outputs": [],
   "source": [
    "#mapping readmitted\n",
    "readmitted_ranges = list(set(data['readmitted']))\n",
    "readmitted_ordinal = [1, 0, 1]\n",
    "readmitted_map = dict(zip(readmitted_ranges, readmitted_ordinal))\n",
    "data['readmitted'] = data['readmitted'].map(readmitted_map)"
   ]
  },
  {
   "cell_type": "code",
   "execution_count": 174,
   "metadata": {},
   "outputs": [],
   "source": [
    "###########Subsetting data  , we are interested just in people with a Diabetes condition  #################"
   ]
  },
  {
   "cell_type": "code",
   "execution_count": 175,
   "metadata": {},
   "outputs": [],
   "source": [
    "diabetes = data[data['diabetesMed=Yes'] == 1]"
   ]
  },
  {
   "cell_type": "code",
   "execution_count": 176,
   "metadata": {},
   "outputs": [
    {
     "data": {
      "text/plain": [
       "{'<30': 1, '>30': 1, 'NO': 0}"
      ]
     },
     "execution_count": 176,
     "metadata": {},
     "output_type": "execute_result"
    }
   ],
   "source": [
    "readmitted_map"
   ]
  },
  {
   "cell_type": "code",
   "execution_count": 177,
   "metadata": {},
   "outputs": [],
   "source": [
    "X = diabetes\n",
    "inds = pd.isnull(X).any(1).nonzero()[0]\n",
    "y = diabetes['readmitted']\n",
    "X.drop(['readmitted', 'readmitted'], axis=1, inplace=True)"
   ]
  },
  {
   "cell_type": "code",
   "execution_count": 178,
   "metadata": {},
   "outputs": [],
   "source": [
    "# Separate training and test sets\n",
    "X_train, X_test, y_train, y_test = train_test_split(X, y, test_size=0.30, random_state=50)"
   ]
  },
  {
   "cell_type": "code",
   "execution_count": null,
   "metadata": {},
   "outputs": [],
   "source": []
  },
  {
   "cell_type": "code",
   "execution_count": null,
   "metadata": {},
   "outputs": [],
   "source": []
  },
  {
   "cell_type": "code",
   "execution_count": 24,
   "metadata": {},
   "outputs": [],
   "source": [
    "###############Convolutional neural networks####################"
   ]
  },
  {
   "cell_type": "code",
   "execution_count": 25,
   "metadata": {},
   "outputs": [],
   "source": [
    "from keras.regularizers import L1L2"
   ]
  },
  {
   "cell_type": "code",
   "execution_count": 26,
   "metadata": {},
   "outputs": [],
   "source": [
    "def create_baseline(input_nodes,\n",
    "                    hidden1_nodes,\n",
    "                    hidden2_nodes,\n",
    "                    hidden3_nodes,\n",
    "                    output_nodes,\n",
    "                    dropout_rate):\n",
    "        # NN architecturE\n",
    "        model = Sequential()\n",
    "        #model.add(GlobalAvgPool1D(input_shape=(146,2,)))\n",
    "        model.add(Dense(output_dim=hidden1_nodes,\n",
    "                        input_dim=input_nodes,\n",
    "                        activation='relu'))\n",
    "        model.add(Dropout(dropout_rate))\n",
    "        model.add(Dense(output_dim=hidden2_nodes,\n",
    "                        input_dim=hidden1_nodes,\n",
    "                        activation='relu'))\n",
    "        model.add(Dropout(dropout_rate))\n",
    "        model.add(Dense(output_dim=hidden3_nodes,\n",
    "                        input_dim=hidden2_nodes,\n",
    "                        activation='relu'))\n",
    "        model.add(Dropout(dropout_rate))\n",
    "        model.add(Dense(output_dim=hidden4_nodes,\n",
    "                        input_dim=hidden3_nodes,\n",
    "                        activation='relu'))\n",
    "        model.add(Dropout(dropout_rate))\n",
    "        model.add(Dense(output_dim=output_nodes,\n",
    "                        input_dim=hidden4_nodes,\n",
    "                        activation='sigmoid'))\n",
    "        # Compile model\n",
    "        model.compile(loss='binary_crossentropy',\n",
    "                      optimizer='adam',\n",
    "                      metrics=['accuracy'])\n",
    "        return model"
   ]
  },
  {
   "cell_type": "code",
   "execution_count": 27,
   "metadata": {},
   "outputs": [],
   "source": [
    "# categorical_crossentrophy expects targets to be binary matrices - if target are integer classes\n",
    "# we need to convert to the expected format using to categorical\n",
    "# fix random seed for reproducibility\n",
    "y_train = np.array(y_train)\n",
    "y_train = [[x] for x in y_train]\n",
    "y_train = np.array(y_train)\n",
    "y_test = np.array(y_test)\n",
    "y_test = [[x] for x in y_test]\n",
    "y_test = np.array(y_test)"
   ]
  },
  {
   "cell_type": "code",
   "execution_count": 31,
   "metadata": {},
   "outputs": [
    {
     "name": "stderr",
     "output_type": "stream",
     "text": [
      "C:\\Users\\Creative\\Anaconda2\\envs\\tensorflow\\lib\\site-packages\\ipykernel\\__main__.py:12: UserWarning: Update your `Dense` call to the Keras 2 API: `Dense(units=50, activation=\"relu\", input_dim=146)`\n",
      "C:\\Users\\Creative\\Anaconda2\\envs\\tensorflow\\lib\\site-packages\\ipykernel\\__main__.py:16: UserWarning: Update your `Dense` call to the Keras 2 API: `Dense(units=50, activation=\"relu\", input_dim=50)`\n",
      "C:\\Users\\Creative\\Anaconda2\\envs\\tensorflow\\lib\\site-packages\\ipykernel\\__main__.py:20: UserWarning: Update your `Dense` call to the Keras 2 API: `Dense(units=50, activation=\"relu\", input_dim=50)`\n",
      "C:\\Users\\Creative\\Anaconda2\\envs\\tensorflow\\lib\\site-packages\\ipykernel\\__main__.py:24: UserWarning: Update your `Dense` call to the Keras 2 API: `Dense(units=50, activation=\"relu\", input_dim=50)`\n",
      "C:\\Users\\Creative\\Anaconda2\\envs\\tensorflow\\lib\\site-packages\\ipykernel\\__main__.py:28: UserWarning: Update your `Dense` call to the Keras 2 API: `Dense(units=1, activation=\"sigmoid\", input_dim=50)`\n"
     ]
    },
    {
     "name": "stdout",
     "output_type": "stream",
     "text": [
      "Epoch 1/50\n",
      "47579/47579 [==============================] - 6s 126us/step - loss: 0.0404 - acc: 0.9953\n",
      "Epoch 2/50\n",
      "47579/47579 [==============================] - 6s 122us/step - loss: 4.1220e-06 - acc: 1.0000\n",
      "Epoch 3/50\n",
      "47579/47579 [==============================] - 6s 124us/step - loss: 2.7303e-07 - acc: 1.0000\n",
      "Epoch 4/50\n",
      "47579/47579 [==============================] - 6s 124us/step - loss: 6.2318e-06 - acc: 1.0000\n",
      "Epoch 5/50\n",
      "47579/47579 [==============================] - 6s 132us/step - loss: 1.4746e-07 - acc: 1.0000\n",
      "Epoch 6/50\n",
      "47579/47579 [==============================] - 6s 136us/step - loss: 1.4570e-07 - acc: 1.0000\n",
      "Epoch 7/50\n",
      "47579/47579 [==============================] - 6s 134us/step - loss: 1.4141e-07 - acc: 1.0000\n",
      "Epoch 8/50\n",
      "47579/47579 [==============================] - 7s 140us/step - loss: 1.1946e-07 - acc: 1.0000 0s - loss: 1.1946e-07 - acc: 1.0\n",
      "Epoch 9/50\n",
      "47579/47579 [==============================] - 6s 132us/step - loss: 1.2186e-07 - acc: 1.0000\n",
      "Epoch 10/50\n",
      "47579/47579 [==============================] - 6s 130us/step - loss: 1.3475e-07 - acc: 1.0000\n",
      "Epoch 11/50\n",
      "47579/47579 [==============================] - 6s 130us/step - loss: 1.2176e-07 - acc: 1.0000\n",
      "Epoch 12/50\n",
      "47579/47579 [==============================] - 6s 128us/step - loss: 1.2376e-07 - acc: 1.0000\n",
      "Epoch 13/50\n",
      "47579/47579 [==============================] - 7s 137us/step - loss: 1.1988e-07 - acc: 1.0000\n",
      "Epoch 14/50\n",
      "47579/47579 [==============================] - 6s 136us/step - loss: 1.2154e-07 - acc: 1.0000\n",
      "Epoch 15/50\n",
      "47579/47579 [==============================] - 7s 139us/step - loss: 1.2044e-07 - acc: 1.0000\n",
      "Epoch 16/50\n",
      "47579/47579 [==============================] - 7s 137us/step - loss: 2.0698e-07 - acc: 1.0000\n",
      "Epoch 17/50\n",
      "47579/47579 [==============================] - 6s 133us/step - loss: 1.1928e-07 - acc: 1.0000\n",
      "Epoch 18/50\n",
      "47579/47579 [==============================] - 6s 135us/step - loss: 1.2002e-07 - acc: 1.0000\n",
      "Epoch 19/50\n",
      "47579/47579 [==============================] - 6s 133us/step - loss: 1.1928e-07 - acc: 1.0000\n",
      "Epoch 20/50\n",
      "47579/47579 [==============================] - 6s 135us/step - loss: 1.1939e-07 - acc: 1.0000\n",
      "Epoch 21/50\n",
      "47579/47579 [==============================] - 7s 137us/step - loss: 1.1927e-07 - acc: 1.0000\n",
      "Epoch 22/50\n",
      "47579/47579 [==============================] - 7s 140us/step - loss: 1.1929e-07 - acc: 1.0000\n",
      "Epoch 23/50\n",
      "47579/47579 [==============================] - 7s 143us/step - loss: 1.1921e-07 - acc: 1.0000\n",
      "Epoch 24/50\n",
      "47579/47579 [==============================] - 7s 149us/step - loss: 1.1921e-07 - acc: 1.0000\n",
      "Epoch 25/50\n",
      "47579/47579 [==============================] - 7s 138us/step - loss: 1.2027e-07 - acc: 1.0000\n",
      "Epoch 26/50\n",
      "47579/47579 [==============================] - 6s 132us/step - loss: 1.1963e-07 - acc: 1.0000\n",
      "Epoch 27/50\n",
      "47579/47579 [==============================] - 6s 137us/step - loss: 1.1925e-07 - acc: 1.0000\n",
      "Epoch 28/50\n",
      "47579/47579 [==============================] - 7s 138us/step - loss: 1.1936e-07 - acc: 1.0000 1s -\n",
      "Epoch 29/50\n",
      "47579/47579 [==============================] - 6s 134us/step - loss: 1.1927e-07 - acc: 1.0000\n",
      "Epoch 30/50\n",
      "47579/47579 [==============================] - 7s 145us/step - loss: 1.1921e-07 - acc: 1.0000\n",
      "Epoch 31/50\n",
      "47579/47579 [==============================] - 7s 140us/step - loss: 1.1921e-07 - acc: 1.0000 3s - loss: 1.19 - ETA:\n",
      "Epoch 32/50\n",
      "47579/47579 [==============================] - 7s 141us/step - loss: 1.1926e-07 - acc: 1.0000\n",
      "Epoch 33/50\n",
      "47579/47579 [==============================] - 6s 133us/step - loss: 1.1926e-07 - acc: 1.0000\n",
      "Epoch 34/50\n",
      "47579/47579 [==============================] - 6s 132us/step - loss: 1.1991e-07 - acc: 1.0000\n",
      "Epoch 35/50\n",
      "47579/47579 [==============================] - 6s 133us/step - loss: 1.1928e-07 - acc: 1.0000\n",
      "Epoch 36/50\n",
      "47579/47579 [==============================] - 7s 137us/step - loss: 1.1921e-07 - acc: 1.0000\n",
      "Epoch 37/50\n",
      "47579/47579 [==============================] - 7s 142us/step - loss: 1.2536e-07 - acc: 1.0000\n",
      "Epoch 38/50\n",
      "47579/47579 [==============================] - 7s 137us/step - loss: 1.1921e-07 - acc: 1.0000\n",
      "Epoch 39/50\n",
      "47579/47579 [==============================] - 7s 143us/step - loss: 1.1921e-07 - acc: 1.0000\n",
      "Epoch 40/50\n",
      "47579/47579 [==============================] - 7s 143us/step - loss: 1.1940e-07 - acc: 1.0000\n",
      "Epoch 41/50\n",
      "47579/47579 [==============================] - 6s 136us/step - loss: 1.1934e-07 - acc: 1.0000 2\n",
      "Epoch 42/50\n",
      "47579/47579 [==============================] - 7s 138us/step - loss: 1.1921e-07 - acc: 1.0000\n",
      "Epoch 43/50\n",
      "47579/47579 [==============================] - 7s 142us/step - loss: 1.1921e-07 - acc: 1.0000\n",
      "Epoch 44/50\n",
      "47579/47579 [==============================] - 7s 141us/step - loss: 1.1923e-07 - acc: 1.0000\n",
      "Epoch 45/50\n",
      "47579/47579 [==============================] - 7s 144us/step - loss: 1.1921e-07 - acc: 1.0000\n",
      "Epoch 46/50\n",
      "47579/47579 [==============================] - 7s 143us/step - loss: 1.1921e-07 - acc: 1.0000\n",
      "Epoch 47/50\n",
      "47579/47579 [==============================] - 7s 141us/step - loss: 1.1921e-07 - acc: 1.0000\n",
      "Epoch 48/50\n",
      "47579/47579 [==============================] - 6s 135us/step - loss: 1.2236e-07 - acc: 1.0000\n",
      "Epoch 49/50\n",
      "47579/47579 [==============================] - 7s 137us/step - loss: 1.1921e-07 - acc: 1.0000\n",
      "Epoch 50/50\n",
      "47579/47579 [==============================] - 7s 153us/step - loss: 1.1921e-07 - acc: 1.0000\n",
      "--- 329.0400207042694 seconds ---\n"
     ]
    },
    {
     "data": {
      "text/plain": [
       "'\\n# evaluate model with standardized dataset\\nestimator = KerasClassifier(build_fn=model,\\n                            nb_epoch=100,\\n                            batch_size=200,\\n                            verbose=2)\\nkfold = StratifiedKFold(n_splits=10,\\n                        shuffle=True,\\n                        random_state=seed)\\nresults = cross_val_score(estimator,\\n                          X,\\n                          y,\\n                          cv=kfold)\\n'"
      ]
     },
     "execution_count": 31,
     "metadata": {},
     "output_type": "execute_result"
    }
   ],
   "source": [
    "\"\"\" Keras Sequential model with Manual validation\n",
    "\"\"\"\n",
    "start_time = time.time()\n",
    "\n",
    "\n",
    "# Only for categorical_crossentrophy - Comment out for binary_crossentrophy\n",
    "#y_train = keras.utils.to_categorical(y_train, num_classes=3)\n",
    "#y_test = keras.utils.to_categorical(y_test, num_classes=3)\n",
    "\n",
    "seed = 13\n",
    "np.random.seed(seed)\n",
    "cvscores = []\n",
    "learning_rate = 0.02\n",
    "sgd = SGD(lr=learning_rate, momentum=0.05, nesterov=False)\n",
    "\n",
    "input_nodes = 146\n",
    "hidden1_nodes = 50\n",
    "hidden2_nodes = 50\n",
    "hidden3_nodes = 50\n",
    "hidden4_nodes = 50\n",
    "output_nodes = 1\n",
    "dropout_rate = 0.1\n",
    "\n",
    "\n",
    "model = create_baseline(input_nodes,\n",
    "                        hidden1_nodes,\n",
    "                        hidden2_nodes,\n",
    "                        hidden3_nodes,\n",
    "                        output_nodes,\n",
    "                        dropout_rate)\n",
    "\n",
    "\n",
    "\n",
    "model.fit(X_train, y_train, epochs=50, batch_size=120) \n",
    "print('--- %s seconds ---'%(time.time() - start_time))\n",
    "'''\n",
    "# evaluate model with standardized dataset\n",
    "estimator = KerasClassifier(build_fn=model,\n",
    "                            nb_epoch=100,\n",
    "                            batch_size=200,\n",
    "                            verbose=2)\n",
    "kfold = StratifiedKFold(n_splits=10,\n",
    "                        shuffle=True,\n",
    "                        random_state=seed)\n",
    "results = cross_val_score(estimator,\n",
    "                          X,\n",
    "                          y,\n",
    "                          cv=kfold)\n",
    "'''\n",
    "#print(\"Results of 10-fold Cross-Validation: %.2f%% (%.2f%%)\" % (results.mean() * 100, results.std() * 100))"
   ]
  },
  {
   "cell_type": "code",
   "execution_count": null,
   "metadata": {},
   "outputs": [],
   "source": []
  },
  {
   "cell_type": "code",
   "execution_count": null,
   "metadata": {},
   "outputs": [],
   "source": []
  },
  {
   "cell_type": "code",
   "execution_count": null,
   "metadata": {},
   "outputs": [],
   "source": []
  },
  {
   "cell_type": "code",
   "execution_count": null,
   "metadata": {},
   "outputs": [],
   "source": []
  },
  {
   "cell_type": "raw",
   "metadata": {},
   "source": [
    "-------------------------Logistic Regression Binomial (0,1) --------------------------\n"
   ]
  },
  {
   "cell_type": "code",
   "execution_count": 72,
   "metadata": {},
   "outputs": [
    {
     "data": {
      "text/plain": [
       "LogisticRegression(C=1.0, class_weight=None, dual=False, fit_intercept=True,\n",
       "          intercept_scaling=1, max_iter=100, multi_class='ovr', n_jobs=1,\n",
       "          penalty='l2', random_state=None, solver='liblinear', tol=0.0001,\n",
       "          verbose=0, warm_start=False)"
      ]
     },
     "execution_count": 72,
     "metadata": {},
     "output_type": "execute_result"
    }
   ],
   "source": [
    "from sklearn.linear_model import LogisticRegression\n",
    "from sklearn import metrics\n",
    "logreg = LogisticRegression()\n",
    "logreg.fit(X_train, y_train)"
   ]
  },
  {
   "cell_type": "code",
   "execution_count": 73,
   "metadata": {},
   "outputs": [
    {
     "name": "stdout",
     "output_type": "stream",
     "text": [
      "Accuracy of logistic regression classifier on test set: 0.88\n"
     ]
    }
   ],
   "source": [
    "model = LogisticRegression()\n",
    "model.fit(X_train, y_train)\n",
    "y_pred = model.predict(X_test)\n",
    "print('Accuracy of logistic regression classifier on test set: {:.2f}'.format(model.score(X_test, y_test)))"
   ]
  },
  {
   "cell_type": "code",
   "execution_count": 74,
   "metadata": {},
   "outputs": [
    {
     "name": "stdout",
     "output_type": "stream",
     "text": [
      "10-fold cross validation average accuracy: 0.883\n"
     ]
    }
   ],
   "source": [
    "\n",
    "kfold = model_selection.KFold(n_splits=10, random_state=7)\n",
    "modelCV = LogisticRegression()\n",
    "scoring = 'accuracy'\n",
    "results = model_selection.cross_val_score(modelCV, X_train, y_train, cv=kfold, scoring=scoring)\n",
    "print(\"10-fold cross validation average accuracy: %.3f\" % (results.mean()))"
   ]
  },
  {
   "cell_type": "code",
   "execution_count": 75,
   "metadata": {},
   "outputs": [
    {
     "name": "stdout",
     "output_type": "stream",
     "text": [
      "             precision    recall  f1-score   support\n",
      "\n",
      "          0       0.89      1.00      0.94     18036\n",
      "          1       0.51      0.02      0.04      2355\n",
      "\n",
      "avg / total       0.84      0.88      0.83     20391\n",
      "\n"
     ]
    }
   ],
   "source": [
    "from sklearn.metrics import classification_report\n",
    "print(classification_report(y_test, y_pred))"
   ]
  },
  {
   "cell_type": "code",
   "execution_count": 76,
   "metadata": {},
   "outputs": [
    {
     "data": {
      "image/png": "[encoded data removed]",
      "text/plain": [
       "<matplotlib.figure.Figure at 0x22422c1cba8>"
      ]
     },
     "metadata": {},
     "output_type": "display_data"
    }
   ],
   "source": [
    "from sklearn.metrics import roc_auc_score\n",
    "from sklearn.metrics import roc_curve\n",
    "logit_roc_auc = roc_auc_score(y_test, logreg.predict(X_test))\n",
    "fpr, tpr, thresholds = roc_curve(y_test, logreg.predict_proba(X_test)[:,1])\n",
    "plt.figure()\n",
    "plt.plot(fpr, tpr, label='Logistic Regression (area = %0.2f)' % logit_roc_auc)\n",
    "plt.plot([0, 1], [0, 1],'r--')\n",
    "plt.xlim([0.0, 1.0])\n",
    "plt.ylim([0.0, 1.05])\n",
    "plt.xlabel('False Positive Rate')\n",
    "plt.ylabel('True Positive Rate')\n",
    "plt.title('Receiver operating characteristic')\n",
    "plt.legend(loc=\"lower right\")\n",
    "plt.savefig('Log_ROC')\n",
    "plt.show()"
   ]
  },
  {
   "cell_type": "raw",
   "metadata": {},
   "source": [
    "--------------- End of Logisitic Regression ------------------------"
   ]
  },
  {
   "cell_type": "raw",
   "metadata": {},
   "source": [
    "=================== ANOVA FILTER====================== SUPORT VECTOR MACHINE==============="
   ]
  },
  {
   "cell_type": "code",
   "execution_count": 68,
   "metadata": {},
   "outputs": [
    {
     "name": "stdout",
     "output_type": "stream",
     "text": [
      "             precision    recall  f1-score   support\n",
      "\n",
      "          0       0.88      1.00      0.94     18036\n",
      "          1       0.00      0.00      0.00      2355\n",
      "\n",
      "avg / total       0.78      0.88      0.83     20391\n",
      "\n"
     ]
    },
    {
     "name": "stderr",
     "output_type": "stream",
     "text": [
      "C:\\Users\\Creative\\Anaconda2\\envs\\tensorflow\\lib\\site-packages\\sklearn\\metrics\\classification.py:1135: UndefinedMetricWarning: Precision and F-score are ill-defined and being set to 0.0 in labels with no predicted samples.\n",
      "  'precision', 'predicted', average, warn_for)\n"
     ]
    }
   ],
   "source": [
    "# ANOVA SVM-C\n",
    "# 1) anova filter, take 3 best ranked features\n",
    "anova_filter = SelectKBest(f_regression, k=10)\n",
    "# 2) svm\n",
    "clf = svm.SVC(kernel='linear')\n",
    "\n",
    "anova_svm = make_pipeline(anova_filter, clf)\n",
    "anova_svm.fit(X_train, y_train)\n",
    "y_pred = anova_svm.predict(X_test)\n",
    "print(classification_report(y_test, y_pred))"
   ]
  },
  {
   "cell_type": "raw",
   "metadata": {},
   "source": [
    "==============================================================="
   ]
  },
  {
   "cell_type": "code",
   "execution_count": null,
   "metadata": {},
   "outputs": [],
   "source": []
  }
 ],
 "metadata": {
  "kernelspec": {
   "display_name": "Python [conda env:tensorflow]",
   "language": "python",
   "name": "conda-env-tensorflow-py"
  },
  "language_info": {
   "codemirror_mode": {
    "name": "ipython",
    "version": 3
   },
   "file_extension": ".py",
   "mimetype": "text/x-python",
   "name": "python",
   "nbconvert_exporter": "python",
   "pygments_lexer": "ipython3",
   "version": "3.5.4"
  }
 },
 "nbformat": 4,
 "nbformat_minor": 2
}
